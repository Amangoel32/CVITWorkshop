{
  "nbformat": 4,
  "nbformat_minor": 0,
  "metadata": {
    "colab": {
      "name": "CVITDay5HWMorning",
      "provenance": []
    },
    "kernelspec": {
      "name": "python3",
      "display_name": "Python 3"
    }
  },
  "cells": [
    {
      "cell_type": "code",
      "metadata": {
        "id": "XPbm4lCkB_qy",
        "colab_type": "code",
        "colab": {
          "base_uri": "https://localhost:8080/",
          "height": 141
        },
        "outputId": "2fb0e8df-3a76-4195-c6db-abacaa57b9f4"
      },
      "source": [
        "import numpy as np\n",
        "# Modify the empty list, p, so that it becomes a UNIFORM probability\n",
        "# distribution over n grid cells, as expressed in a list of \n",
        "# n probabilities.\n",
        "def init_distribution(n):\n",
        "    p = []\n",
        "    # Add your code here\n",
        "    p=[1/n for i in range(n)]\n",
        "    # for i in range(n):\n",
        "    #   p=np.hstack([p,[1/n]])\n",
        "    # End your code here\n",
        "    return p\n",
        "init_distribution(7)\n",
        "\n"
      ],
      "execution_count": 14,
      "outputs": [
        {
          "output_type": "execute_result",
          "data": {
            "text/plain": [
              "[0.14285714285714285,\n",
              " 0.14285714285714285,\n",
              " 0.14285714285714285,\n",
              " 0.14285714285714285,\n",
              " 0.14285714285714285,\n",
              " 0.14285714285714285,\n",
              " 0.14285714285714285]"
            ]
          },
          "metadata": {
            "tags": []
          },
          "execution_count": 14
        }
      ]
    },
    {
      "cell_type": "code",
      "metadata": {
        "id": "u62DlSXzCDWN",
        "colab_type": "code",
        "colab": {
          "base_uri": "https://localhost:8080/",
          "height": 35
        },
        "outputId": "0b4fd600-6986-46ac-9a18-709a7e18333b"
      },
      "source": [
        "#Modify the code below so that the function sense, which \n",
        "#takes p and Z as inputs, will output the normalized \n",
        "#probability distribution, q, after multiplying the entries \n",
        "# in p according to the color in the corresponding cell in world,\n",
        "# followed by normalization of the probability values\n",
        "world=['green', 'red', 'red', 'green', 'green']\n",
        "p = [0.2, 0.2, 0.2, 0.2, 0.2]\n",
        "\n",
        "def sense(p, Z):\n",
        "    q = np.zeros((0))\n",
        "    flag=0\n",
        "    for i in range(len(p)):\n",
        "        if(world[i]==Z):\n",
        "          q=np.hstack([q,p[i]*0.75])\n",
        "        else:\n",
        "          q=np.hstack([q,p[i]*0.25])\n",
        "    a=q.sum()\n",
        "    for i in range(len(q)):\n",
        "      q[i]=q[i]/a\n",
        "    return q\n",
        "sense(p, 'red')"
      ],
      "execution_count": 6,
      "outputs": [
        {
          "output_type": "execute_result",
          "data": {
            "text/plain": [
              "array([0.11111111, 0.33333333, 0.33333333, 0.11111111, 0.11111111])"
            ]
          },
          "metadata": {
            "tags": []
          },
          "execution_count": 6
        }
      ]
    },
    {
      "cell_type": "code",
      "metadata": {
        "id": "abgpl9spCGTk",
        "colab_type": "code",
        "colab": {
          "base_uri": "https://localhost:8080/",
          "height": 35
        },
        "outputId": "45ca242e-0bcf-41f2-92f6-ccb5c194cb4a"
      },
      "source": [
        "#Modify the code so that it updates the probability twice\n",
        "#and gives the posterior distribution after both \n",
        "#measurements are incorporated. Make sure that your code \n",
        "#allows for any sequence of measurement of any length.\n",
        "\n",
        "# DO NOT MODIFY THE SENSE FUNCTION. JUST CALL THE SENSE FUNCTION APPROPRIATELY\n",
        "\n",
        "p=[0.2, 0.2, 0.2, 0.2, 0.2]\n",
        "world=['green', 'red', 'red', 'green', 'green']\n",
        "measurements = ['red', 'green']\n",
        "\n",
        "# Add your code here\n",
        "for z in measurements:\n",
        "  p=sense(p,z)\n",
        "# End your code here\n",
        "print(p)"
      ],
      "execution_count": 7,
      "outputs": [
        {
          "output_type": "stream",
          "text": [
            "[0.2 0.2 0.2 0.2 0.2]\n"
          ],
          "name": "stdout"
        }
      ]
    },
    {
      "cell_type": "code",
      "metadata": {
        "id": "ggejLj3HCK8U",
        "colab_type": "code",
        "colab": {
          "base_uri": "https://localhost:8080/",
          "height": 35
        },
        "outputId": "783ddebf-5909-4d09-d355-9f24786d3c74"
      },
      "source": [
        "def move(p,U):\n",
        "  return np.roll(p,U)\n",
        "\n",
        "p=[0,0,1,0,0]\n",
        "print(move(p,1))"
      ],
      "execution_count": 16,
      "outputs": [
        {
          "output_type": "stream",
          "text": [
            "[0 0 0 1 0]\n"
          ],
          "name": "stdout"
        }
      ]
    },
    {
      "cell_type": "code",
      "metadata": {
        "id": "xX1Hzi6TCVr0",
        "colab_type": "code",
        "colab": {
          "base_uri": "https://localhost:8080/",
          "height": 52
        },
        "outputId": "27d99692-64b6-419d-e411-64512dc40942"
      },
      "source": [
        "def overunder(p,U):\n",
        "  p=move(p,U)*0.8+move(p,U-1)*0.1+move(p,U+1)*0.1\n",
        "  return p\n",
        "\n",
        "p=[0,0,1,0,0]\n",
        "\n",
        "for i in range(1):\n",
        "  p=overunder(p,1)\n",
        "print(p)\n",
        "\n",
        "for i in range(1000):\n",
        "  p=overunder(p,1)\n",
        "print(p)"
      ],
      "execution_count": 23,
      "outputs": [
        {
          "output_type": "stream",
          "text": [
            "[0.  0.  0.1 0.8 0.1]\n",
            "[0.2 0.2 0.2 0.2 0.2]\n"
          ],
          "name": "stdout"
        }
      ]
    },
    {
      "cell_type": "code",
      "metadata": {
        "id": "flHDK6spCkCM",
        "colab_type": "code",
        "colab": {
          "base_uri": "https://localhost:8080/",
          "height": 35
        },
        "outputId": "b63c8146-1077-46a4-ebbd-1021bf5346ae"
      },
      "source": [
        "measurements=['red','green']\n",
        "motions=[1,1]\n",
        "p=init_distribution(5)\n",
        "for i in range(2):\n",
        "  p=sense(p,measurements[i])\n",
        "  p=overunder(p,motions[i])\n",
        "print(p)"
      ],
      "execution_count": 24,
      "outputs": [
        {
          "output_type": "stream",
          "text": [
            "[0.21157895 0.15157895 0.08105263 0.16842105 0.38736842]\n"
          ],
          "name": "stdout"
        }
      ]
    },
    {
      "cell_type": "code",
      "metadata": {
        "id": "EWLjmCoKD7DY",
        "colab_type": "code",
        "colab": {}
      },
      "source": [
        ""
      ],
      "execution_count": 0,
      "outputs": []
    }
  ]
}