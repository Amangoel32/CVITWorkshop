{
  "nbformat": 4,
  "nbformat_minor": 0,
  "metadata": {
    "colab": {
      "name": "Day7KCrossValidationPerceptron Mnist.ipynb",
      "provenance": []
    },
    "kernelspec": {
      "name": "python3",
      "display_name": "Python 3"
    }
  },
  "cells": [
    {
      "cell_type": "code",
      "metadata": {
        "id": "oOiMc9Jlf1Uu",
        "colab_type": "code",
        "outputId": "06b3fa54-538c-4877-aa40-53eb731407dd",
        "colab": {
          "base_uri": "https://localhost:8080/",
          "height": 67
        }
      },
      "source": [
        "from keras.datasets import mnist\n",
        "\n",
        "(x_train, y_train), (x_test, y_test) = mnist.load_data()"
      ],
      "execution_count": 3,
      "outputs": [
        {
          "output_type": "stream",
          "text": [
            "Using TensorFlow backend.\n"
          ],
          "name": "stderr"
        },
        {
          "output_type": "stream",
          "text": [
            "Downloading data from https://s3.amazonaws.com/img-datasets/mnist.npz\n",
            "11493376/11490434 [==============================] - 0s 0us/step\n"
          ],
          "name": "stdout"
        }
      ]
    },
    {
      "cell_type": "code",
      "metadata": {
        "id": "0pd1iaB3hbXp",
        "colab_type": "code",
        "colab": {}
      },
      "source": [
        "import numpy as np"
      ],
      "execution_count": 0,
      "outputs": []
    },
    {
      "cell_type": "code",
      "metadata": {
        "id": "gwiP3YLzgmKl",
        "colab_type": "code",
        "outputId": "42905f30-2589-4300-d56c-3ffd916cd468",
        "colab": {
          "base_uri": "https://localhost:8080/",
          "height": 50
        }
      },
      "source": [
        "print(\"Training data shape: \", x_train.shape) # (60000, 28, 28) -- 60000 images, each 28x28 pixels\n",
        "print(\"Test data shape\", x_test.shape) # (10000, 28, 28) -- 10000 images, each 28x28\n",
        "\n",
        "# Flatten the images\n",
        "image_vector_size = 28*28\n",
        "x_train = x_train.reshape(x_train.shape[0], image_vector_size)\n",
        "x_test = x_test.reshape(x_test.shape[0], image_vector_size)"
      ],
      "execution_count": 5,
      "outputs": [
        {
          "output_type": "stream",
          "text": [
            "Training data shape:  (60000, 28, 28)\n",
            "Test data shape (10000, 28, 28)\n"
          ],
          "name": "stdout"
        }
      ]
    },
    {
      "cell_type": "code",
      "metadata": {
        "id": "4ItrFUYEg7SI",
        "colab_type": "code",
        "outputId": "4897e815-1053-429c-cea6-2f480624b8ae",
        "colab": {
          "base_uri": "https://localhost:8080/",
          "height": 50
        }
      },
      "source": [
        "print(\"Training data shape: \", x_train.shape) # (60000, 28, 28) -- 60000 images, each 28x28 pixels\n",
        "print(\"Test data shape\", x_test.shape) # (10000, 28, 28) -- 10000 images, each 28x28"
      ],
      "execution_count": 6,
      "outputs": [
        {
          "output_type": "stream",
          "text": [
            "Training data shape:  (60000, 784)\n",
            "Test data shape (10000, 784)\n"
          ],
          "name": "stdout"
        }
      ]
    },
    {
      "cell_type": "code",
      "metadata": {
        "id": "UJ_MWm4wg7ix",
        "colab_type": "code",
        "colab": {}
      },
      "source": [
        "# Function to extract the classes\n",
        "def extract_2classes(class0, class1, X, Y):\n",
        "    # Select class #0\n",
        "    X_0 = X[Y == class0]\n",
        "    Y_0 = Y[Y == class0]\n",
        "    # Select class #1\n",
        "    X_1 = X[Y == class1]\n",
        "    Y_1 = Y[Y == class1]\n",
        "    # Join the two classes to make the set\n",
        "    X_2classes = np.vstack((X_0, X_1))\n",
        "    Y_2classes = np.append(Y_0, Y_1)\n",
        "    return X_2classes, Y_2classes"
      ],
      "execution_count": 0,
      "outputs": []
    },
    {
      "cell_type": "code",
      "metadata": {
        "id": "fG-YcWSuhKI9",
        "colab_type": "code",
        "colab": {
          "base_uri": "https://localhost:8080/",
          "height": 34
        },
        "outputId": "4871171f-8cf2-40a8-8a95-4b4819b2dc52"
      },
      "source": [
        "X_train_2classes, Y_train_2classes = extract_2classes(5, 7, x_train, y_train)\n",
        "print(X_train_2classes.shape)\n",
        "# print(Y_train_2classes)\n",
        "X_test_2classes, Y_test_2classes = extract_2classes(5, 7,x_test, y_test)"
      ],
      "execution_count": 8,
      "outputs": [
        {
          "output_type": "stream",
          "text": [
            "(11686, 784)\n"
          ],
          "name": "stdout"
        }
      ]
    },
    {
      "cell_type": "code",
      "metadata": {
        "id": "exespOWBjDx_",
        "colab_type": "code",
        "outputId": "2a2a03b6-0bdd-4d78-eb05-83723d03b77a",
        "colab": {
          "base_uri": "https://localhost:8080/",
          "height": 50
        }
      },
      "source": [
        "print(\"Training data shape: \", X_train_2classes.shape) # (60000, 28, 28) -- 60000 images, each 28x28 pixels\n",
        "print(\"Test data shape\", X_test_2classes.shape) # (10000, 28, 28) -- 10000 images, each 28x28"
      ],
      "execution_count": 9,
      "outputs": [
        {
          "output_type": "stream",
          "text": [
            "Training data shape:  (11686, 784)\n",
            "Test data shape (1920, 784)\n"
          ],
          "name": "stdout"
        }
      ]
    },
    {
      "cell_type": "code",
      "metadata": {
        "id": "_qhlgfoEh3KP",
        "colab_type": "code",
        "colab": {}
      },
      "source": [
        "from sklearn.metrics import accuracy_score\n",
        "from sklearn.linear_model import Perceptron\n",
        "\n",
        "def predict(train_features,test_features,train_labels): \n",
        "    clf = Perceptron(tol=1e-3, random_state=0)\n",
        "    # Fitting the data into the model\n",
        "    clf.fit(train_features, train_labels)\n",
        "    # Predicting the labels for test data\n",
        "    predicted_values = clf.predict(test_features)\n",
        "    return predicted_values\n",
        "    \n",
        "def calc_accuracy(train_features,test_features,train_labels,test_labels):\n",
        "    # Calling predict function to get the predicted labels of test data\n",
        "    pred = predict(train_features,test_features,train_labels)\n",
        "    return accuracy_score(pred, test_labels)\n",
        "  "
      ],
      "execution_count": 0,
      "outputs": []
    },
    {
      "cell_type": "code",
      "metadata": {
        "id": "eh2H-ZgFh9JW",
        "colab_type": "code",
        "outputId": "28be235b-60b1-42ef-82a3-83b4a0e9b721",
        "colab": {
          "base_uri": "https://localhost:8080/",
          "height": 34
        }
      },
      "source": [
        "calc_accuracy(X_train_2classes,X_test_2classes,Y_train_2classes,Y_test_2classes)"
      ],
      "execution_count": 11,
      "outputs": [
        {
          "output_type": "execute_result",
          "data": {
            "text/plain": [
              "0.9895833333333334"
            ]
          },
          "metadata": {
            "tags": []
          },
          "execution_count": 11
        }
      ]
    },
    {
      "cell_type": "code",
      "metadata": {
        "id": "xcXkwg4PtUAi",
        "colab_type": "code",
        "colab": {}
      },
      "source": [
        "import matplotlib.pyplot as plt\n",
        "from sklearn.model_selection import train_test_split\n",
        "X_train, X_test, y_train, y_test = train_test_split(X_train_2classes, Y_train_2classes, test_size=0.001, random_state=42)"
      ],
      "execution_count": 0,
      "outputs": []
    },
    {
      "cell_type": "code",
      "metadata": {
        "id": "KxNE9v8Rrv9x",
        "colab_type": "code",
        "colab": {
          "base_uri": "https://localhost:8080/",
          "height": 296
        },
        "outputId": "db265e30-e2f9-47f4-cb15-8976b8a644e5"
      },
      "source": [
        "from sklearn.model_selection import cross_val_score\n",
        "from sklearn.model_selection import cross_val_predict\n",
        "from sklearn.model_selection import KFold\n",
        "clf = Perceptron(tol=1e-3, random_state=0)\n",
        "X=X_train\n",
        "y=y_train\n",
        "X2=X_test_2classes\n",
        "Y2=Y_test_2classes\n",
        "result=[]\n",
        "X_train=[]\n",
        "X_test=[]\n",
        "y_train=[]\n",
        "y_test=[]\n",
        "for i in range(2,10):\n",
        "  clf = Perceptron(tol=1e-3, random_state=0)\n",
        "  scores = cross_val_score(clf, X, y, cv=i)\n",
        "  kf = KFold(n_splits=i)\n",
        "  kf.get_n_splits(X)\n",
        "  temp=[]\n",
        "  accuracy=[]\n",
        "  valaccuracy=[]\n",
        "  for train_index, test_index in kf.split(X):\n",
        "    X_train, X_test = X[train_index], X[test_index]\n",
        "    y_train, y_test = y[train_index], y[test_index]\n",
        "    accuracy.append(calc_accuracy(X_train,X_test,y_train,y_test))\n",
        "  accuracy=np.array(accuracy)\n",
        "  result.append([scores.mean(),accuracy.mean(),i])\n",
        "  \n",
        "# print(result)\n",
        "x=[]\n",
        "y=[]\n",
        "z=[]\n",
        "for a,b,c in result:\n",
        "  x.append(c)\n",
        "  y.append(a)\n",
        "  z.append(b)\n",
        "\n",
        "plt.scatter(x,y,label='Training')\n",
        "plt.legend()\n",
        "plt.xlabel(\"k values\")\n",
        "plt.ylabel(\"% accuracy\")\n",
        "plt.scatter(x,z,label='Validation')\n",
        "plt.legend()"
      ],
      "execution_count": 41,
      "outputs": [
        {
          "output_type": "execute_result",
          "data": {
            "text/plain": [
              "<matplotlib.legend.Legend at 0x7fb30aa20400>"
            ]
          },
          "metadata": {
            "tags": []
          },
          "execution_count": 41
        },
        {
          "output_type": "display_data",
          "data": {
            "image/png": "[encoded data removed]",
            "text/plain": [
              "<Figure size 432x288 with 1 Axes>"
            ]
          },
          "metadata": {
            "tags": [],
            "needs_background": "light"
          }
        }
      ]
    },
    {
      "cell_type": "code",
      "metadata": {
        "id": "fF5tmWAhqSz3",
        "colab_type": "code",
        "colab": {}
      },
      "source": [
        ""
      ],
      "execution_count": 0,
      "outputs": []
    }
  ]
}