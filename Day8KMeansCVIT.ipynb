{
  "nbformat": 4,
  "nbformat_minor": 0,
  "metadata": {
    "colab": {
      "name": "Day8KMeansCVIT",
      "provenance": []
    },
    "kernelspec": {
      "name": "python3",
      "display_name": "Python 3"
    }
  },
  "cells": [
    {
      "cell_type": "code",
      "metadata": {
        "id": "bxiXeJNWPTKi",
        "colab_type": "code",
        "colab": {}
      },
      "source": [
        "import numpy as np\n",
        "import matplotlib.pyplot as plt\n",
        "import matplotlib.cm as cm\n",
        "from sklearn.metrics.pairwise import euclidean_distances\n",
        "from sklearn.datasets import make_circles\n",
        "from sklearn.cluster import KMeans\n",
        "import seaborn as sns\n",
        "sns.set()\n",
        "sns.set_style(\"dark\")"
      ],
      "execution_count": 0,
      "outputs": []
    },
    {
      "cell_type": "code",
      "metadata": {
        "id": "2mslAxnSPqY0",
        "colab_type": "code",
        "colab": {}
      },
      "source": [
        "def plot_clusters(points, cluster_labels,offset=0.1,show_annotation=True):\n",
        "  cluster_labels=np.array(cluster_labels)\n",
        "  un_clusters=np.unique(cluster_labels)\n",
        "  points=np.array(points)\n",
        "  samples=points.shape[0]\n",
        "\n",
        "\n",
        "\n",
        "  for cluster in un_clusters:\n",
        "    if(cluster_labels == cluster).any():\n",
        "      plt.scatter(points[cluster_labels==cluster,0],points[cluster_labels==cluster,1],label=cluster)\n",
        "\n",
        "  if show_annotation:\n",
        "    for i in range(samples):\n",
        "      plt.annotate(i,(points[i,0]+offset,points[i,1]+offset))\n",
        "  plt.legend()\n"
      ],
      "execution_count": 0,
      "outputs": []
    },
    {
      "cell_type": "code",
      "metadata": {
        "id": "hbURHT5DWDNa",
        "colab_type": "code",
        "colab": {}
      },
      "source": [
        ""
      ],
      "execution_count": 0,
      "outputs": []
    },
    {
      "cell_type": "code",
      "metadata": {
        "id": "1z7RqwEoSvIE",
        "colab_type": "code",
        "colab": {}
      },
      "source": [
        "np.random.seed(2)\n",
        "points = np.vstack((np.random.normal(0,0.5,size=(4,2)),np.random.normal(3,0.5,size=(4,2))))\n",
        "points = np.vstack((points, np.array([[1.5,1.5]])))\n",
        "points = np.vstack((points, np.array([[1.25,1.25]])))"
      ],
      "execution_count": 0,
      "outputs": []
    },
    {
      "cell_type": "code",
      "metadata": {
        "id": "hqS5F_lpTb-L",
        "colab_type": "code",
        "outputId": "732a79eb-0fa5-4eea-be99-d956c0bdcca4",
        "colab": {
          "base_uri": "https://localhost:8080/",
          "height": 306
        }
      },
      "source": [
        "cluster_labels= np.zeros((10)).tolist()\n",
        "\n",
        "print(cluster_labels==0)\n",
        "# print(cluster_labels)\n",
        "offset=0.1\n",
        "print(points.shape)\n",
        "plot_clusters(points,cluster_labels,offset)\n",
        "plt.show()\n"
      ],
      "execution_count": 15,
      "outputs": [
        {
          "output_type": "stream",
          "text": [
            "False\n",
            "(10, 2)\n"
          ],
          "name": "stdout"
        },
        {
          "output_type": "display_data",
          "data": {
            "image/png": "[encoded data removed]",
            "text/plain": [
              "<Figure size 432x288 with 1 Axes>"
            ]
          },
          "metadata": {
            "tags": []
          }
        }
      ]
    },
    {
      "cell_type": "code",
      "metadata": {
        "id": "9U7cYgzGZSOL",
        "colab_type": "code",
        "outputId": "9f1cdb8a-3659-4575-f585-8e4c781f795a",
        "colab": {
          "base_uri": "https://localhost:8080/",
          "height": 289
        }
      },
      "source": [
        "cluster_labels= np.array([0,0,0,1,1,0,2,2,1,1])\n",
        "print(points.shape)\n",
        "plot_clusters(points,cluster_labels,offset)\n",
        "plt.show()\n"
      ],
      "execution_count": 16,
      "outputs": [
        {
          "output_type": "stream",
          "text": [
            "(10, 2)\n"
          ],
          "name": "stdout"
        },
        {
          "output_type": "display_data",
          "data": {
            "image/png": "[encoded data removed]",
            "text/plain": [
              "<Figure size 432x288 with 1 Axes>"
            ]
          },
          "metadata": {
            "tags": []
          }
        }
      ]
    },
    {
      "cell_type": "code",
      "metadata": {
        "id": "T27zPdQiTqwv",
        "colab_type": "code",
        "colab": {}
      },
      "source": [
        "def heatmap(grid, xlabels, ylabels, xrot=90):   \n",
        "    cmap = cm.get_cmap(\"viridis\")\n",
        "    plt.imshow(grid, cmap=cmap)\n",
        "    plt.xticks(np.arange(0,grid.shape[1],step=1), xlabels, rotation=xrot)\n",
        "    plt.yticks(np.arange(0, grid.shape[0], step=1), ylabels)"
      ],
      "execution_count": 0,
      "outputs": []
    },
    {
      "cell_type": "code",
      "metadata": {
        "id": "QuBbjcshcC2B",
        "colab_type": "code",
        "outputId": "b5f25b69-1487-49df-8af3-06d2faef5b3c",
        "colab": {
          "base_uri": "https://localhost:8080/",
          "height": 268
        }
      },
      "source": [
        "grid = euclidean_distances(points,points)\n",
        "grid = (grid-grid.min(axis=1)[:,None])/(grid.max(axis=1)[:,None]-grid.min(axis=1)[:,None])\n",
        "xlabels = np.arange(0,points.shape[0])\n",
        "ylabels=np.arange(0,points.shape[0])\n",
        "heatmap(grid,xlabels,ylabels,xrot=0)"
      ],
      "execution_count": 18,
      "outputs": [
        {
          "output_type": "display_data",
          "data": {
            "image/png": "[encoded data removed]",
            "text/plain": [
              "<Figure size 432x288 with 1 Axes>"
            ]
          },
          "metadata": {
            "tags": []
          }
        }
      ]
    },
    {
      "cell_type": "code",
      "metadata": {
        "id": "lorR-Aouct7Y",
        "colab_type": "code",
        "outputId": "72f353ae-a1fa-4065-86e1-1e5da4da8f7e",
        "colab": {
          "base_uri": "https://localhost:8080/",
          "height": 269
        }
      },
      "source": [
        "def initialise(points,K):\n",
        "  a=points\n",
        "  np.random.shuffle(a)\n",
        "  return a[0:K][:]\n",
        "\n",
        "b=np.array([[10,10],[2,2],[1,5],[5,7],[1,5],[0,0]])\n",
        "k=initialise(b,2)\n",
        "print(k)\n",
        "def assign(points,clustercenters):\n",
        "  q=clustercenters.shape[0]\n",
        "  clusterlabels=np.zeros((q))\n",
        "  dist=euclidean_distances(points,clustercenters)\n",
        "  cluster_labels=np.argmin(dist,axis=1)\n",
        "  return cluster_labels\n",
        "print(b)\n",
        "clusterlabels=assign(b,k)\n",
        "print(b)\n",
        "print(clusterlabels)"
      ],
      "execution_count": 47,
      "outputs": [
        {
          "output_type": "stream",
          "text": [
            "[[0 0]\n",
            " [1 5]]\n",
            "[[ 0  0]\n",
            " [ 1  5]\n",
            " [ 1  5]\n",
            " [10 10]\n",
            " [ 5  7]\n",
            " [ 2  2]]\n",
            "[[ 0  0]\n",
            " [ 1  5]\n",
            " [ 1  5]\n",
            " [10 10]\n",
            " [ 5  7]\n",
            " [ 2  2]]\n",
            "[0 1 1 1 1 0]\n"
          ],
          "name": "stdout"
        }
      ]
    },
    {
      "cell_type": "code",
      "metadata": {
        "id": "JJ3LjwmIj7tV",
        "colab_type": "code",
        "colab": {}
      },
      "source": [
        "def recalculate_cluster_centers(points,clusterlabels,K):\n",
        "    clustercenters=np.zeros((K,2))\n",
        "    # print(un_clusters)\n",
        "    for label in range(K):\n",
        "      clustercenters[label,:]=points[clusterlabels==label,:].mean(axis=0)\n",
        "    return clustercenters\n",
        "\n",
        "# calcnewmean(b,k,clusterlabels)"
      ],
      "execution_count": 0,
      "outputs": []
    },
    {
      "cell_type": "code",
      "metadata": {
        "id": "NVNKiMoZsa1k",
        "colab_type": "code",
        "outputId": "7d1a73aa-cb59-4bf9-8eb2-fd840a7c64f6",
        "colab": {
          "base_uri": "https://localhost:8080/",
          "height": 67
        }
      },
      "source": [
        "\n",
        "np.random.seed(2)\n",
        "points = np.vstack((np.random.normal(0,0.5,size=(4,2)),np.random.normal(3,0.5,size=(4,2))))\n",
        "points = np.vstack((points, np.array([[1.5,1.5]])))\n",
        "points = np.vstack((points, np.array([[1.25,1.25]])))\n",
        "cluster_centers = np.array([[0,0], [1,1], [2,2]])\n",
        "cluster_labels = assign(points,cluster_centers)\n",
        "cluster_centers=recalculate_cluster_centers(points, cluster_labels,3)\n",
        "print(cluster_centers)"
      ],
      "execution_count": 49,
      "outputs": [
        {
          "output_type": "stream",
          "text": [
            "[[-0.48043851 -0.06287893]\n",
            " [ 1.375       1.375     ]\n",
            " [ 3.00926244  2.95863941]]\n"
          ],
          "name": "stdout"
        }
      ]
    },
    {
      "cell_type": "code",
      "metadata": {
        "id": "Plxbs_CDtpHZ",
        "colab_type": "code",
        "colab": {}
      },
      "source": [
        "def KMeans(points,K):\n",
        "  cluster_labels= np.zeros((points.shape[0]))\n",
        "\n",
        "  cluster_centers = initialise(points,K)\n",
        "\n",
        "  initial_centers = cluster_centers.copy()\n",
        "  old_cluster_centers = np.zeros(cluster_centers.shape)\n",
        "\n",
        "  while not (old_cluster_centers==initial_centers).all():\n",
        "    old_cluster_centers=cluster_centers.copy()\n",
        "\n",
        "    #assign\n",
        "    cluster_labels=assign(points,cluster_centers)\n",
        "\n",
        "    #recalculate\n",
        "\n",
        "    cluster_centers = recalculate_cluster_centers(points,cluster_labels,K)\n",
        "  return cluster_labels, initial_centers, cluster_centers\n"
      ],
      "execution_count": 0,
      "outputs": []
    },
    {
      "cell_type": "code",
      "metadata": {
        "id": "L5JUurnDw_VN",
        "colab_type": "code",
        "outputId": "c2e097c1-d038-4f01-fb5f-752465a7caf3",
        "colab": {
          "base_uri": "https://localhost:8080/",
          "height": 268
        }
      },
      "source": [
        "np.random.seed(2)\n",
        "K = 5\n",
        "X = []\n",
        "for i in range(5):\n",
        "    X.append(np.random.normal(2**i,(i+1)/5, size=(20,2)))\n",
        "\n",
        "points = np.vstack(X)\n",
        "plot_clusters(points, np.zeros((points.shape[0])), show_annotation=False)"
      ],
      "execution_count": 24,
      "outputs": [
        {
          "output_type": "display_data",
          "data": {
            "image/png": "[encoded data removed]",
            "text/plain": [
              "<Figure size 432x288 with 1 Axes>"
            ]
          },
          "metadata": {
            "tags": []
          }
        }
      ]
    },
    {
      "cell_type": "code",
      "metadata": {
        "id": "3fN6to7HxcwI",
        "colab_type": "code",
        "outputId": "ccd978a1-71c4-41b1-b71c-d5f521014293",
        "colab": {
          "base_uri": "https://localhost:8080/",
          "height": 268
        }
      },
      "source": [
        "cluster_labels, initial_centers, cluster_centers = KMeans(points,K)\n",
        "plot_clusters(points,cluster_labels,show_annotation=False)\n",
        "# plt.scatter(cluster_centers[:][0],cluster_centers[:][1],marker=\"X\",label='center')\n",
        "# print(cluster_centers)"
      ],
      "execution_count": 25,
      "outputs": [
        {
          "output_type": "display_data",
          "data": {
            "image/png": "[encoded data removed]",
            "text/plain": [
              "<Figure size 432x288 with 1 Axes>"
            ]
          },
          "metadata": {
            "tags": []
          }
        }
      ]
    },
    {
      "cell_type": "code",
      "metadata": {
        "id": "IbB_Wlgxx0oN",
        "colab_type": "code",
        "outputId": "84c437b0-f763-47de-a1c6-5dc2085a006a",
        "colab": {
          "base_uri": "https://localhost:8080/",
          "height": 268
        }
      },
      "source": [
        "points, _ = make_circles(100, noise=0.06, factor=0.5)\n",
        "plt.scatter(points[:,0], points[:,1])\n",
        "K=2"
      ],
      "execution_count": 26,
      "outputs": [
        {
          "output_type": "display_data",
          "data": {
            "image/png": "[encoded data removed]",
            "text/plain": [
              "<Figure size 432x288 with 1 Axes>"
            ]
          },
          "metadata": {
            "tags": []
          }
        }
      ]
    },
    {
      "cell_type": "code",
      "metadata": {
        "id": "xfYIXxLf0uQk",
        "colab_type": "code",
        "outputId": "06a5750e-76bb-48e5-f34c-8a243f8901fd",
        "colab": {
          "base_uri": "https://localhost:8080/",
          "height": 268
        }
      },
      "source": [
        "cluster_labels, initial_centers, cluster_centers = KMeans(points,K)\n",
        "plot_clusters(points,cluster_labels,show_annotation=False)"
      ],
      "execution_count": 27,
      "outputs": [
        {
          "output_type": "display_data",
          "data": {
            "image/png": "[encoded data removed]",
            "text/plain": [
              "<Figure size 432x288 with 1 Axes>"
            ]
          },
          "metadata": {
            "tags": []
          }
        }
      ]
    },
    {
      "cell_type": "code",
      "metadata": {
        "id": "sliOVh7L0wlB",
        "colab_type": "code",
        "outputId": "7754b9bb-7de0-4246-ca2f-c78f522c7b95",
        "colab": {
          "base_uri": "https://localhost:8080/",
          "height": 318
        }
      },
      "source": [
        "#convert to r,theta and use kmeans\n",
        "points, _ = make_circles(100, noise=0.06, factor=0.5)\n",
        "K=2\n",
        "r = np.sqrt(points[:,0]**2+points[:,1]**2)\n",
        "t = np.arctan2(points[:,1],points[:,0])\n",
        "print(r.shape)\n",
        "print(t.shape)\n",
        "newpoints=np.zeros((points.shape[0],2))\n",
        "for i in range(points.shape[0]):\n",
        "  newpoints[i][1]=float(r[i]/1.1)\n",
        "  newpoints[i][0]=float((-t[i]+3.14)/(2*3.14))\n",
        "points=newpoints\n",
        "plt.scatter(points[:,0], points[:,1])"
      ],
      "execution_count": 28,
      "outputs": [
        {
          "output_type": "stream",
          "text": [
            "(100,)\n",
            "(100,)\n"
          ],
          "name": "stdout"
        },
        {
          "output_type": "execute_result",
          "data": {
            "text/plain": [
              "<matplotlib.collections.PathCollection at 0x7fa539bd99b0>"
            ]
          },
          "metadata": {
            "tags": []
          },
          "execution_count": 28
        },
        {
          "output_type": "display_data",
          "data": {
            "image/png": "[encoded data removed]",
            "text/plain": [
              "<Figure size 432x288 with 1 Axes>"
            ]
          },
          "metadata": {
            "tags": []
          }
        }
      ]
    },
    {
      "cell_type": "code",
      "metadata": {
        "id": "gUSZ98ja4rtY",
        "colab_type": "code",
        "colab": {}
      },
      "source": [
        "a=np.array([[-1,0.2],[-1,1.1]])"
      ],
      "execution_count": 0,
      "outputs": []
    },
    {
      "cell_type": "code",
      "metadata": {
        "id": "6gj4QTYU2YnK",
        "colab_type": "code",
        "outputId": "accdefe6-b614-4d52-bb38-b8d2b73a1611",
        "colab": {
          "base_uri": "https://localhost:8080/",
          "height": 302
        }
      },
      "source": [
        "cluster_labels, initial_centers, cluster_centers = KMeans(points,K)\n",
        "plot_clusters(points,cluster_labels,show_annotation=False)\n",
        "plt.xlabel(\"theta\")\n",
        "plt.ylabel(\"R\")"
      ],
      "execution_count": 30,
      "outputs": [
        {
          "output_type": "execute_result",
          "data": {
            "text/plain": [
              "Text(0, 0.5, 'R')"
            ]
          },
          "metadata": {
            "tags": []
          },
          "execution_count": 30
        },
        {
          "output_type": "display_data",
          "data": {
            "image/png": "[encoded data removed]",
            "text/plain": [
              "<Figure size 432x288 with 1 Axes>"
            ]
          },
          "metadata": {
            "tags": []
          }
        }
      ]
    },
    {
      "cell_type": "code",
      "metadata": {
        "id": "p5_DZW1I3QD3",
        "colab_type": "code",
        "outputId": "a7afe556-2952-43a6-8732-59886f6c5ef7",
        "colab": {
          "base_uri": "https://localhost:8080/",
          "height": 438
        }
      },
      "source": [
        "import pandas as pd\n",
        "import json, os\n",
        "\n",
        "df = pd.read_csv(\"./tmdb_5000_movies.csv\")\n",
        "\n",
        "data = {}\n",
        "num_choices = 5\n",
        "\n",
        "try:\n",
        "    with open(\"final.json\", \"r\") as f:\n",
        "        data = json.load(f)\n",
        "except:\n",
        "    ip = input(\"Enter your name: \").strip()\n",
        "    while ip == \"\":\n",
        "        ip = input(\"Enter your name: \")\n",
        "        \n",
        "    data[\"username\"] = ip\n",
        "    data[\"movie_ids\"] = []\n",
        "    data[\"genre_freq\"] = {}\n",
        "    data[\"genre_freq_divided\"] = {}\n",
        "    \n",
        "    for i in range(df.shape[0]):\n",
        "        genres = json.loads(df[\"genres\"].iloc[i])\n",
        "        for genre in genres:\n",
        "            data[\"genre_freq\"][genre[\"name\"]] = 0\n",
        "            data[\"genre_freq_divided\"][genre[\"name\"]] = 0\n",
        "            \n",
        "while len(data[\"movie_ids\"]) != df.shape[0]:\n",
        "    num_idxs = min(df.shape[0]-len(data[\"movie_ids\"]), num_choices)\n",
        "    idxs = np.random.choice(df.shape[0], size=num_idxs, replace=False)\n",
        "    \n",
        "    print(\"-\"*100)\n",
        "    for i,idx in enumerate(idxs.tolist()):\n",
        "        while df[\"id\"].iloc[idx] in data[\"movie_ids\"]: \n",
        "            idx = np.random.randint(0, df.shape[0])\n",
        "\n",
        "        print(\"{}) {}\".format(i, df[\"title\"].iloc[idx]))\n",
        "\n",
        "    ip = int(input(\"Preferred Movie: \"))\n",
        "    if not 0<=ip<num_choices:\n",
        "        print(\"No option selected. Skipping...\")\n",
        "        continue\n",
        "    \n",
        "    chosen_loc = idxs[i]\n",
        "    genres = json.loads(df[\"genres\"].iloc[chosen_loc])\n",
        "    for genre in genres:\n",
        "        data[\"genre_freq\"][genre[\"name\"]] += 1\n",
        "        data[\"genre_freq_divided\"][genre[\"name\"]] += 1/len(genres)\n",
        "\n",
        "    data[\"movie_ids\"].append(int(df[\"id\"].iloc[chosen_loc]))\n",
        "\n",
        "    with open(\"final.json\", \"w\") as f:\n",
        "        json.dump(data, f)"
      ],
      "execution_count": 31,
      "outputs": [
        {
          "output_type": "error",
          "ename": "FileNotFoundError",
          "evalue": "ignored",
          "traceback": [
            "\u001b[0;31m---------------------------------------------------------------------------\u001b[0m",
            "\u001b[0;31mFileNotFoundError\u001b[0m                         Traceback (most recent call last)",
            "\u001b[0;32m<ipython-input-31-734439743430>\u001b[0m in \u001b[0;36m<module>\u001b[0;34m()\u001b[0m\n\u001b[1;32m      2\u001b[0m \u001b[0;32mimport\u001b[0m \u001b[0mjson\u001b[0m\u001b[0;34m,\u001b[0m \u001b[0mos\u001b[0m\u001b[0;34m\u001b[0m\u001b[0;34m\u001b[0m\u001b[0m\n\u001b[1;32m      3\u001b[0m \u001b[0;34m\u001b[0m\u001b[0m\n\u001b[0;32m----> 4\u001b[0;31m \u001b[0mdf\u001b[0m \u001b[0;34m=\u001b[0m \u001b[0mpd\u001b[0m\u001b[0;34m.\u001b[0m\u001b[0mread_csv\u001b[0m\u001b[0;34m(\u001b[0m\u001b[0;34m\"./tmdb_5000_movies.csv\"\u001b[0m\u001b[0;34m)\u001b[0m\u001b[0;34m\u001b[0m\u001b[0;34m\u001b[0m\u001b[0m\n\u001b[0m\u001b[1;32m      5\u001b[0m \u001b[0;34m\u001b[0m\u001b[0m\n\u001b[1;32m      6\u001b[0m \u001b[0mdata\u001b[0m \u001b[0;34m=\u001b[0m \u001b[0;34m{\u001b[0m\u001b[0;34m}\u001b[0m\u001b[0;34m\u001b[0m\u001b[0;34m\u001b[0m\u001b[0m\n",
            "\u001b[0;32m/usr/local/lib/python3.6/dist-packages/pandas/io/parsers.py\u001b[0m in \u001b[0;36mparser_f\u001b[0;34m(filepath_or_buffer, sep, delimiter, header, names, index_col, usecols, squeeze, prefix, mangle_dupe_cols, dtype, engine, converters, true_values, false_values, skipinitialspace, skiprows, skipfooter, nrows, na_values, keep_default_na, na_filter, verbose, skip_blank_lines, parse_dates, infer_datetime_format, keep_date_col, date_parser, dayfirst, cache_dates, iterator, chunksize, compression, thousands, decimal, lineterminator, quotechar, quoting, doublequote, escapechar, comment, encoding, dialect, error_bad_lines, warn_bad_lines, delim_whitespace, low_memory, memory_map, float_precision)\u001b[0m\n\u001b[1;32m    674\u001b[0m         )\n\u001b[1;32m    675\u001b[0m \u001b[0;34m\u001b[0m\u001b[0m\n\u001b[0;32m--> 676\u001b[0;31m         \u001b[0;32mreturn\u001b[0m \u001b[0m_read\u001b[0m\u001b[0;34m(\u001b[0m\u001b[0mfilepath_or_buffer\u001b[0m\u001b[0;34m,\u001b[0m \u001b[0mkwds\u001b[0m\u001b[0;34m)\u001b[0m\u001b[0;34m\u001b[0m\u001b[0;34m\u001b[0m\u001b[0m\n\u001b[0m\u001b[1;32m    677\u001b[0m \u001b[0;34m\u001b[0m\u001b[0m\n\u001b[1;32m    678\u001b[0m     \u001b[0mparser_f\u001b[0m\u001b[0;34m.\u001b[0m\u001b[0m__name__\u001b[0m \u001b[0;34m=\u001b[0m \u001b[0mname\u001b[0m\u001b[0;34m\u001b[0m\u001b[0;34m\u001b[0m\u001b[0m\n",
            "\u001b[0;32m/usr/local/lib/python3.6/dist-packages/pandas/io/parsers.py\u001b[0m in \u001b[0;36m_read\u001b[0;34m(filepath_or_buffer, kwds)\u001b[0m\n\u001b[1;32m    446\u001b[0m \u001b[0;34m\u001b[0m\u001b[0m\n\u001b[1;32m    447\u001b[0m     \u001b[0;31m# Create the parser.\u001b[0m\u001b[0;34m\u001b[0m\u001b[0;34m\u001b[0m\u001b[0;34m\u001b[0m\u001b[0m\n\u001b[0;32m--> 448\u001b[0;31m     \u001b[0mparser\u001b[0m \u001b[0;34m=\u001b[0m \u001b[0mTextFileReader\u001b[0m\u001b[0;34m(\u001b[0m\u001b[0mfp_or_buf\u001b[0m\u001b[0;34m,\u001b[0m \u001b[0;34m**\u001b[0m\u001b[0mkwds\u001b[0m\u001b[0;34m)\u001b[0m\u001b[0;34m\u001b[0m\u001b[0;34m\u001b[0m\u001b[0m\n\u001b[0m\u001b[1;32m    449\u001b[0m \u001b[0;34m\u001b[0m\u001b[0m\n\u001b[1;32m    450\u001b[0m     \u001b[0;32mif\u001b[0m \u001b[0mchunksize\u001b[0m \u001b[0;32mor\u001b[0m \u001b[0miterator\u001b[0m\u001b[0;34m:\u001b[0m\u001b[0;34m\u001b[0m\u001b[0;34m\u001b[0m\u001b[0m\n",
            "\u001b[0;32m/usr/local/lib/python3.6/dist-packages/pandas/io/parsers.py\u001b[0m in \u001b[0;36m__init__\u001b[0;34m(self, f, engine, **kwds)\u001b[0m\n\u001b[1;32m    878\u001b[0m             \u001b[0mself\u001b[0m\u001b[0;34m.\u001b[0m\u001b[0moptions\u001b[0m\u001b[0;34m[\u001b[0m\u001b[0;34m\"has_index_names\"\u001b[0m\u001b[0;34m]\u001b[0m \u001b[0;34m=\u001b[0m \u001b[0mkwds\u001b[0m\u001b[0;34m[\u001b[0m\u001b[0;34m\"has_index_names\"\u001b[0m\u001b[0;34m]\u001b[0m\u001b[0;34m\u001b[0m\u001b[0;34m\u001b[0m\u001b[0m\n\u001b[1;32m    879\u001b[0m \u001b[0;34m\u001b[0m\u001b[0m\n\u001b[0;32m--> 880\u001b[0;31m         \u001b[0mself\u001b[0m\u001b[0;34m.\u001b[0m\u001b[0m_make_engine\u001b[0m\u001b[0;34m(\u001b[0m\u001b[0mself\u001b[0m\u001b[0;34m.\u001b[0m\u001b[0mengine\u001b[0m\u001b[0;34m)\u001b[0m\u001b[0;34m\u001b[0m\u001b[0;34m\u001b[0m\u001b[0m\n\u001b[0m\u001b[1;32m    881\u001b[0m \u001b[0;34m\u001b[0m\u001b[0m\n\u001b[1;32m    882\u001b[0m     \u001b[0;32mdef\u001b[0m \u001b[0mclose\u001b[0m\u001b[0;34m(\u001b[0m\u001b[0mself\u001b[0m\u001b[0;34m)\u001b[0m\u001b[0;34m:\u001b[0m\u001b[0;34m\u001b[0m\u001b[0;34m\u001b[0m\u001b[0m\n",
            "\u001b[0;32m/usr/local/lib/python3.6/dist-packages/pandas/io/parsers.py\u001b[0m in \u001b[0;36m_make_engine\u001b[0;34m(self, engine)\u001b[0m\n\u001b[1;32m   1112\u001b[0m     \u001b[0;32mdef\u001b[0m \u001b[0m_make_engine\u001b[0m\u001b[0;34m(\u001b[0m\u001b[0mself\u001b[0m\u001b[0;34m,\u001b[0m \u001b[0mengine\u001b[0m\u001b[0;34m=\u001b[0m\u001b[0;34m\"c\"\u001b[0m\u001b[0;34m)\u001b[0m\u001b[0;34m:\u001b[0m\u001b[0;34m\u001b[0m\u001b[0;34m\u001b[0m\u001b[0m\n\u001b[1;32m   1113\u001b[0m         \u001b[0;32mif\u001b[0m \u001b[0mengine\u001b[0m \u001b[0;34m==\u001b[0m \u001b[0;34m\"c\"\u001b[0m\u001b[0;34m:\u001b[0m\u001b[0;34m\u001b[0m\u001b[0;34m\u001b[0m\u001b[0m\n\u001b[0;32m-> 1114\u001b[0;31m             \u001b[0mself\u001b[0m\u001b[0;34m.\u001b[0m\u001b[0m_engine\u001b[0m \u001b[0;34m=\u001b[0m \u001b[0mCParserWrapper\u001b[0m\u001b[0;34m(\u001b[0m\u001b[0mself\u001b[0m\u001b[0;34m.\u001b[0m\u001b[0mf\u001b[0m\u001b[0;34m,\u001b[0m \u001b[0;34m**\u001b[0m\u001b[0mself\u001b[0m\u001b[0;34m.\u001b[0m\u001b[0moptions\u001b[0m\u001b[0;34m)\u001b[0m\u001b[0;34m\u001b[0m\u001b[0;34m\u001b[0m\u001b[0m\n\u001b[0m\u001b[1;32m   1115\u001b[0m         \u001b[0;32melse\u001b[0m\u001b[0;34m:\u001b[0m\u001b[0;34m\u001b[0m\u001b[0;34m\u001b[0m\u001b[0m\n\u001b[1;32m   1116\u001b[0m             \u001b[0;32mif\u001b[0m \u001b[0mengine\u001b[0m \u001b[0;34m==\u001b[0m \u001b[0;34m\"python\"\u001b[0m\u001b[0;34m:\u001b[0m\u001b[0;34m\u001b[0m\u001b[0;34m\u001b[0m\u001b[0m\n",
            "\u001b[0;32m/usr/local/lib/python3.6/dist-packages/pandas/io/parsers.py\u001b[0m in \u001b[0;36m__init__\u001b[0;34m(self, src, **kwds)\u001b[0m\n\u001b[1;32m   1889\u001b[0m         \u001b[0mkwds\u001b[0m\u001b[0;34m[\u001b[0m\u001b[0;34m\"usecols\"\u001b[0m\u001b[0;34m]\u001b[0m \u001b[0;34m=\u001b[0m \u001b[0mself\u001b[0m\u001b[0;34m.\u001b[0m\u001b[0musecols\u001b[0m\u001b[0;34m\u001b[0m\u001b[0;34m\u001b[0m\u001b[0m\n\u001b[1;32m   1890\u001b[0m \u001b[0;34m\u001b[0m\u001b[0m\n\u001b[0;32m-> 1891\u001b[0;31m         \u001b[0mself\u001b[0m\u001b[0;34m.\u001b[0m\u001b[0m_reader\u001b[0m \u001b[0;34m=\u001b[0m \u001b[0mparsers\u001b[0m\u001b[0;34m.\u001b[0m\u001b[0mTextReader\u001b[0m\u001b[0;34m(\u001b[0m\u001b[0msrc\u001b[0m\u001b[0;34m,\u001b[0m \u001b[0;34m**\u001b[0m\u001b[0mkwds\u001b[0m\u001b[0;34m)\u001b[0m\u001b[0;34m\u001b[0m\u001b[0;34m\u001b[0m\u001b[0m\n\u001b[0m\u001b[1;32m   1892\u001b[0m         \u001b[0mself\u001b[0m\u001b[0;34m.\u001b[0m\u001b[0munnamed_cols\u001b[0m \u001b[0;34m=\u001b[0m \u001b[0mself\u001b[0m\u001b[0;34m.\u001b[0m\u001b[0m_reader\u001b[0m\u001b[0;34m.\u001b[0m\u001b[0munnamed_cols\u001b[0m\u001b[0;34m\u001b[0m\u001b[0;34m\u001b[0m\u001b[0m\n\u001b[1;32m   1893\u001b[0m \u001b[0;34m\u001b[0m\u001b[0m\n",
            "\u001b[0;32mpandas/_libs/parsers.pyx\u001b[0m in \u001b[0;36mpandas._libs.parsers.TextReader.__cinit__\u001b[0;34m()\u001b[0m\n",
            "\u001b[0;32mpandas/_libs/parsers.pyx\u001b[0m in \u001b[0;36mpandas._libs.parsers.TextReader._setup_parser_source\u001b[0;34m()\u001b[0m\n",
            "\u001b[0;31mFileNotFoundError\u001b[0m: [Errno 2] File ./tmdb_5000_movies.csv does not exist: './tmdb_5000_movies.csv'"
          ]
        }
      ]
    },
    {
      "cell_type": "code",
      "metadata": {
        "id": "JudNhbq-Vflg",
        "colab_type": "code",
        "colab": {}
      },
      "source": [
        ""
      ],
      "execution_count": 0,
      "outputs": []
    },
    {
      "cell_type": "code",
      "metadata": {
        "id": "HYbWp-KO_gCN",
        "colab_type": "code",
        "outputId": "0f5adc9c-15b3-4e87-e6a5-24948495927d",
        "colab": {
          "base_uri": "https://localhost:8080/",
          "height": 185
        }
      },
      "source": [
        "import json,os\n",
        "from sklearn.cluster import KMeans\n",
        "# f = open(\"final_Ammar.json\", \"r\")\n",
        "data=[]\n",
        "for i in os.listdir():\n",
        "  if(i[0:5]=='final'):\n",
        "    f=open(i,\"r\")\n",
        "    data.append(json.loads(f.read()))\n",
        "    f.close()\n",
        "b=np.zeros((1,20))\n",
        "print(data[0]['genre_freq_divided']['Action'])\n",
        "for i in range(13):\n",
        "  val=list(data[i]['genre_freq_divided'].values())\n",
        "  val=np.array(val)\n",
        "  val=np.expand_dims(val,axis=0)\n",
        "  b=np.vstack([b,val])\n",
        "b=b[1:b.shape[0],:]\n",
        "\n",
        "kmeans=KMeans(n_clusters=3, random_state=0).fit(b)\n",
        "print(kmeans.labels_)\n",
        "val1=[]\n",
        "val2=[]\n",
        "val3=[]\n",
        "for i in range(13):\n",
        "  val=data[i]['username']\n",
        "  if(kmeans.labels_[i]==0):\n",
        "    val1.append(val)\n",
        "  elif(kmeans.labels_[i]==1):\n",
        "    val2.append(val)\n",
        "  else:\n",
        "    val3.append(val)\n",
        "\n",
        "print(\"Cluster one\")\n",
        "print(val1)\n",
        "print(\"------\")\n",
        "print(\"Cluster two\")\n",
        "print(val2)\n",
        "print(\"-----\")\n",
        "print(\"Cluster three\")\n",
        "print(val3)"
      ],
      "execution_count": 39,
      "outputs": [
        {
          "output_type": "stream",
          "text": [
            "2.6666666666666665\n",
            "[0 1 1 0 1 1 1 1 1 2 0 0 0]\n",
            "Cluster one\n",
            "['Sai Shashank', 'aryamaan', 'Sai Tanmay', 'Ayan', 'yoogottamk']\n",
            "------\n",
            "Cluster two\n",
            "['Aman', 'ttirth', 'varun', 'abhishek', 'George', 'Avani', 'Ammar']\n",
            "-----\n",
            "Cluster three\n",
            "['dolton']\n"
          ],
          "name": "stdout"
        }
      ]
    },
    {
      "cell_type": "code",
      "metadata": {
        "id": "FbEznzdsXhRt",
        "colab_type": "code",
        "colab": {}
      },
      "source": [
        "def plot_clusters2(points, cluster_labels,labels,offset=0.1,show_annotation=True):\n",
        "  cluster_labels=np.array(cluster_labels)\n",
        "  un_clusters=np.unique(cluster_labels)\n",
        "  points=np.array(points)\n",
        "  samples=points.shape[0]\n",
        "\n",
        "\n",
        "\n",
        "  for cluster in un_clusters:\n",
        "    if(cluster_labels == cluster).any():\n",
        "      plt.scatter(points[cluster_labels==cluster,0],points[cluster_labels==cluster,1],label=cluster)\n",
        "\n",
        "  if show_annotation:\n",
        "    for i in range(samples):\n",
        "      plt.annotate(labels[i],(points[i,0]+offset,points[i,1]+offset))\n",
        "  plt.legend()\n"
      ],
      "execution_count": 0,
      "outputs": []
    },
    {
      "cell_type": "code",
      "metadata": {
        "id": "1nFQs2MqVlNV",
        "colab_type": "code",
        "colab": {
          "base_uri": "https://localhost:8080/",
          "height": 322
        },
        "outputId": "649c4e43-824d-4c67-fb50-4db971389922"
      },
      "source": [
        "import json,os\n",
        "# from sklearn.cluster import KMeans\n",
        "# f = open(\"final_Ammar.json\", \"r\")\n",
        "data=[]\n",
        "for i in os.listdir():\n",
        "  if(i[0:5]=='final'):\n",
        "    f=open(i,\"r\")\n",
        "    data.append(json.loads(f.read()))\n",
        "    f.close()\n",
        "b=np.zeros((1,2))\n",
        "for i in range(13):\n",
        "  val1=data[i]['genre_freq_divided']['Action']\n",
        "  val2=data[i]['genre_freq_divided']['Romance']\n",
        "  val1=np.array(val1)\n",
        "  val2=np.array(val2)\n",
        "  val3=np.array([val1,val2])\n",
        "  val3=np.expand_dims(val3,axis=0)\n",
        "  b=np.vstack([b,val3])\n",
        "b=b[1:b.shape[0],:]\n",
        "print(b.shape)\n",
        "points=b\n",
        "labels=['Sai Shashank', 'aryamaan', 'Sai Tanmay', 'Ayan', 'yoogottamk','Aman', 'ttirth', 'varun', 'abhishek', 'George', 'Avani', 'Ammar','dolton']\n",
        "cluster_labels, initial_centers, cluster_centers = KMeans(points,K)\n",
        "plot_clusters2(points,cluster_labels,labels=labels,show_annotation=True)\n",
        "plt.xlabel(\"Action\")\n",
        "plt.ylabel(\"Romance\")"
      ],
      "execution_count": 62,
      "outputs": [
        {
          "output_type": "stream",
          "text": [
            "(13, 2)\n"
          ],
          "name": "stdout"
        },
        {
          "output_type": "execute_result",
          "data": {
            "text/plain": [
              "Text(0, 0.5, 'Romance')"
            ]
          },
          "metadata": {
            "tags": []
          },
          "execution_count": 62
        },
        {
          "output_type": "display_data",
          "data": {
            "image/png": "[encoded data removed]",
            "text/plain": [
              "<Figure size 432x288 with 1 Axes>"
            ]
          },
          "metadata": {
            "tags": []
          }
        }
      ]
    },
    {
      "cell_type": "code",
      "metadata": {
        "id": "63SlXCPDWPge",
        "colab_type": "code",
        "colab": {}
      },
      "source": [
        ""
      ],
      "execution_count": 0,
      "outputs": []
    }
  ]
}