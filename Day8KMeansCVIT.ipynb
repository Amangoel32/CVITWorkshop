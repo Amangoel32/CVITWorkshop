{
  "nbformat": 4,
  "nbformat_minor": 0,
  "metadata": {
    "colab": {
      "name": "Day8KMeansCVIT",
      "provenance": []
    },
    "kernelspec": {
      "name": "python3",
      "display_name": "Python 3"
    }
  },
  "cells": [
    {
      "cell_type": "code",
      "metadata": {
        "id": "bxiXeJNWPTKi",
        "colab_type": "code",
        "colab": {}
      },
      "source": [
        "import numpy as np\n",
        "import matplotlib.pyplot as plt\n",
        "import matplotlib.cm as cm\n",
        "from sklearn.metrics.pairwise import euclidean_distances\n",
        "from sklearn.datasets import make_circles\n",
        "from sklearn.cluster import KMeans\n",
        "import seaborn as sns\n",
        "sns.set()\n",
        "sns.set_style(\"dark\")"
      ],
      "execution_count": 0,
      "outputs": []
    },
    {
      "cell_type": "code",
      "metadata": {
        "id": "2mslAxnSPqY0",
        "colab_type": "code",
        "colab": {}
      },
      "source": [
        "def plot_clusters(points, cluster_labels,offset=0.1,show_annotation=True):\n",
        "  cluster_labels=np.array(cluster_labels)\n",
        "  un_clusters=np.unique(cluster_labels)\n",
        "  points=np.array(points)\n",
        "  samples=points.shape[0]\n",
        "\n",
        "\n",
        "\n",
        "  for cluster in un_clusters:\n",
        "    if(cluster_labels == cluster).any():\n",
        "      plt.scatter(points[cluster_labels==cluster,0],points[cluster_labels==cluster,1],label=cluster)\n",
        "\n",
        "  if show_annotation:\n",
        "    for i in range(samples):\n",
        "      plt.annotate(i,(points[i,0]+offset,points[i,1]+offset))\n",
        "  plt.legend()\n"
      ],
      "execution_count": 0,
      "outputs": []
    },
    {
      "cell_type": "code",
      "metadata": {
        "id": "hbURHT5DWDNa",
        "colab_type": "code",
        "outputId": "68067bd0-e6ed-48b9-d3de-6b803f61dc1e",
        "colab": {
          "base_uri": "https://localhost:8080/",
          "height": 34
        }
      },
      "source": [
        ""
      ],
      "execution_count": 0,
      "outputs": [
        {
          "output_type": "stream",
          "text": [
            "[ True  True  True  True  True  True  True  True  True  True]\n"
          ],
          "name": "stdout"
        }
      ]
    },
    {
      "cell_type": "code",
      "metadata": {
        "id": "1z7RqwEoSvIE",
        "colab_type": "code",
        "colab": {}
      },
      "source": [
        "np.random.seed(2)\n",
        "points = np.vstack((np.random.normal(0,0.5,size=(4,2)),np.random.normal(3,0.5,size=(4,2))))\n",
        "points = np.vstack((points, np.array([[1.5,1.5]])))\n",
        "points = np.vstack((points, np.array([[1.25,1.25]])))"
      ],
      "execution_count": 0,
      "outputs": []
    },
    {
      "cell_type": "code",
      "metadata": {
        "id": "hqS5F_lpTb-L",
        "colab_type": "code",
        "outputId": "e3e57cd3-bccf-408b-c283-78ea9fa4da71",
        "colab": {
          "base_uri": "https://localhost:8080/",
          "height": 306
        }
      },
      "source": [
        "cluster_labels= np.zeros((10)).tolist()\n",
        "\n",
        "print(cluster_labels==0)\n",
        "# print(cluster_labels)\n",
        "offset=0.1\n",
        "print(points.shape)\n",
        "plot_clusters(points,cluster_labels,offset)\n",
        "plt.show()\n"
      ],
      "execution_count": 0,
      "outputs": [
        {
          "output_type": "stream",
          "text": [
            "False\n",
            "(10, 2)\n"
          ],
          "name": "stdout"
        },
        {
          "output_type": "display_data",
          "data": {
            "image/png": "[encoded data removed]",
            "text/plain": [
              "<Figure size 432x288 with 1 Axes>"
            ]
          },
          "metadata": {
            "tags": []
          }
        }
      ]
    },
    {
      "cell_type": "code",
      "metadata": {
        "id": "9U7cYgzGZSOL",
        "colab_type": "code",
        "outputId": "9b899de5-fffa-41a0-d5de-cb434d4721ff",
        "colab": {
          "base_uri": "https://localhost:8080/",
          "height": 289
        }
      },
      "source": [
        "cluster_labels= np.array([0,0,0,1,1,0,2,2,1,1])\n",
        "print(points.shape)\n",
        "plot_clusters(points,cluster_labels,offset)\n",
        "plt.show()\n"
      ],
      "execution_count": 0,
      "outputs": [
        {
          "output_type": "stream",
          "text": [
            "(10, 2)\n"
          ],
          "name": "stdout"
        },
        {
          "output_type": "display_data",
          "data": {
            "image/png": "[encoded data removed]",
            "text/plain": [
              "<Figure size 432x288 with 1 Axes>"
            ]
          },
          "metadata": {
            "tags": []
          }
        }
      ]
    },
    {
      "cell_type": "code",
      "metadata": {
        "id": "T27zPdQiTqwv",
        "colab_type": "code",
        "colab": {}
      },
      "source": [
        "def heatmap(grid, xlabels, ylabels, xrot=90):   \n",
        "    cmap = cm.get_cmap(\"viridis\")\n",
        "    plt.imshow(grid, cmap=cmap)\n",
        "    plt.xticks(np.arange(0,grid.shape[1],step=1), xlabels, rotation=xrot)\n",
        "    plt.yticks(np.arange(0, grid.shape[0], step=1), ylabels)"
      ],
      "execution_count": 0,
      "outputs": []
    },
    {
      "cell_type": "code",
      "metadata": {
        "id": "QuBbjcshcC2B",
        "colab_type": "code",
        "outputId": "a7808a91-da1e-4c7f-92da-c24ef777f296",
        "colab": {
          "base_uri": "https://localhost:8080/",
          "height": 268
        }
      },
      "source": [
        "grid = euclidean_distances(points,points)\n",
        "grid = (grid-grid.min(axis=1)[:,None])/(grid.max(axis=1)[:,None]-grid.min(axis=1)[:,None])\n",
        "xlabels = np.arange(0,points.shape[0])\n",
        "ylabels=np.arange(0,points.shape[0])\n",
        "heatmap(grid,xlabels,ylabels,xrot=0)"
      ],
      "execution_count": 0,
      "outputs": [
        {
          "output_type": "display_data",
          "data": {
            "image/png": "[encoded data removed]",
            "text/plain": [
              "<Figure size 432x288 with 1 Axes>"
            ]
          },
          "metadata": {
            "tags": []
          }
        }
      ]
    },
    {
      "cell_type": "code",
      "metadata": {
        "id": "lorR-Aouct7Y",
        "colab_type": "code",
        "outputId": "e9748e35-5309-453b-cdae-70943237915c",
        "colab": {
          "base_uri": "https://localhost:8080/",
          "height": 269
        }
      },
      "source": [
        "def initialise(points,K):\n",
        "  a=points\n",
        "  np.random.shuffle(a)\n",
        "  return a[0:K][:]\n",
        "\n",
        "b=np.array([[10,10],[2,2],[1,5],[5,7],[1,5],[0,0]])\n",
        "k=initialise(b,2)\n",
        "print(k)\n",
        "def assign(points,clustercenters):\n",
        "  q=clustercenters.shape[0]\n",
        "  clusterlabels=np.zeros((q))\n",
        "  dist=euclidean_distances(points,clustercenters)\n",
        "  cluster_labels=np.argmin(dist,axis=1)\n",
        "  return cluster_labels\n",
        "print(b)\n",
        "clusterlabels=assign(b,k)\n",
        "print(b)\n",
        "print(clusterlabels)"
      ],
      "execution_count": 0,
      "outputs": [
        {
          "output_type": "stream",
          "text": [
            "[[ 5  7]\n",
            " [10 10]]\n",
            "[[ 5  7]\n",
            " [10 10]\n",
            " [ 2  2]\n",
            " [ 1  5]\n",
            " [ 0  0]\n",
            " [ 1  5]]\n",
            "[[ 5  7]\n",
            " [10 10]\n",
            " [ 2  2]\n",
            " [ 1  5]\n",
            " [ 0  0]\n",
            " [ 1  5]]\n",
            "[0 1 0 0 0 0]\n"
          ],
          "name": "stdout"
        }
      ]
    },
    {
      "cell_type": "code",
      "metadata": {
        "id": "JJ3LjwmIj7tV",
        "colab_type": "code",
        "outputId": "1f423558-f4e1-4872-f2f6-84420376cbe5",
        "colab": {
          "base_uri": "https://localhost:8080/",
          "height": 67
        }
      },
      "source": [
        "def recalculate_cluster_centers(points,clusterlabels,K):\n",
        "    clustercenters=np.zeros((K,2))\n",
        "    # print(un_clusters)\n",
        "    for label in range(K):\n",
        "      clustercenters[label,:]=points[clusterlabels==label,:].mean(axis=0)\n",
        "    return clustercenters\n",
        "\n",
        "calcnewmean(b,k,clusterlabels)"
      ],
      "execution_count": 0,
      "outputs": [
        {
          "output_type": "stream",
          "text": [
            "[0 1]\n"
          ],
          "name": "stdout"
        },
        {
          "output_type": "execute_result",
          "data": {
            "text/plain": [
              "array([[ 1,  2],\n",
              "       [20, 10]])"
            ]
          },
          "metadata": {
            "tags": []
          },
          "execution_count": 185
        }
      ]
    },
    {
      "cell_type": "code",
      "metadata": {
        "id": "NVNKiMoZsa1k",
        "colab_type": "code",
        "outputId": "da52429a-8128-4957-bc00-ec116bfb37e3",
        "colab": {
          "base_uri": "https://localhost:8080/",
          "height": 67
        }
      },
      "source": [
        "\n",
        "np.random.seed(2)\n",
        "points = np.vstack((np.random.normal(0,0.5,size=(4,2)),np.random.normal(3,0.5,size=(4,2))))\n",
        "points = np.vstack((points, np.array([[1.5,1.5]])))\n",
        "points = np.vstack((points, np.array([[1.25,1.25]])))\n",
        "cluster_centers = np.array([[0,0], [1,1], [2,2]])\n",
        "cluster_labels = assign(points,cluster_centers)\n",
        "cluster_centers=recalculate_cluster_centers(points, cluster_labels,3)\n",
        "print(cluster_centers)"
      ],
      "execution_count": 0,
      "outputs": [
        {
          "output_type": "stream",
          "text": [
            "[[-0.48043851 -0.06287893]\n",
            " [ 1.375       1.375     ]\n",
            " [ 3.00926244  2.95863941]]\n"
          ],
          "name": "stdout"
        }
      ]
    },
    {
      "cell_type": "code",
      "metadata": {
        "id": "Plxbs_CDtpHZ",
        "colab_type": "code",
        "colab": {}
      },
      "source": [
        "def KMeans(points,K):\n",
        "  cluster_labels= np.zeros((points.shape[0]))\n",
        "\n",
        "  cluster_centers = initialise(points,K)\n",
        "\n",
        "  initial_centers = cluster_centers.copy()\n",
        "  old_cluster_centers = np.zeros(cluster_centers.shape)\n",
        "\n",
        "  while not (old_cluster_centers==initial_centers).all():\n",
        "    old_cluster_centers=cluster_centers.copy()\n",
        "\n",
        "    #assign\n",
        "    cluster_labels=assign(points,cluster_centers)\n",
        "\n",
        "    #recalculate\n",
        "\n",
        "    cluster_centers = recalculate_cluster_centers(points,cluster_labels,K)\n",
        "  return cluster_labels, initial_centers, cluster_centers\n"
      ],
      "execution_count": 0,
      "outputs": []
    },
    {
      "cell_type": "code",
      "metadata": {
        "id": "L5JUurnDw_VN",
        "colab_type": "code",
        "outputId": "d883d161-9dbe-4329-c7c5-79d240d7edc0",
        "colab": {
          "base_uri": "https://localhost:8080/",
          "height": 268
        }
      },
      "source": [
        "np.random.seed(2)\n",
        "K = 5\n",
        "X = []\n",
        "for i in range(5):\n",
        "    X.append(np.random.normal(2**i,(i+1)/5, size=(20,2)))\n",
        "\n",
        "points = np.vstack(X)\n",
        "plot_clusters(points, np.zeros((points.shape[0])), show_annotation=False)"
      ],
      "execution_count": 0,
      "outputs": [
        {
          "output_type": "display_data",
          "data": {
            "image/png": "[encoded data removed]",
            "text/plain": [
              "<Figure size 432x288 with 1 Axes>"
            ]
          },
          "metadata": {
            "tags": []
          }
        }
      ]
    },
    {
      "cell_type": "code",
      "metadata": {
        "id": "3fN6to7HxcwI",
        "colab_type": "code",
        "outputId": "bf6aa307-fc04-44f9-dfd0-fe8b5510cb89",
        "colab": {
          "base_uri": "https://localhost:8080/",
          "height": 268
        }
      },
      "source": [
        "cluster_labels, initial_centers, cluster_centers = KMeans(points,K)\n",
        "plot_clusters(points,cluster_labels,show_annotation=False)\n",
        "# plt.scatter(cluster_centers[:][0],cluster_centers[:][1],marker=\"X\",label='center')\n",
        "# print(cluster_centers)"
      ],
      "execution_count": 0,
      "outputs": [
        {
          "output_type": "display_data",
          "data": {
            "image/png": "[encoded data removed]",
            "text/plain": [
              "<Figure size 432x288 with 1 Axes>"
            ]
          },
          "metadata": {
            "tags": []
          }
        }
      ]
    },
    {
      "cell_type": "code",
      "metadata": {
        "id": "IbB_Wlgxx0oN",
        "colab_type": "code",
        "outputId": "63cf120f-bdf3-41e7-9ca1-3e117dc8256c",
        "colab": {
          "base_uri": "https://localhost:8080/",
          "height": 268
        }
      },
      "source": [
        "points, _ = make_circles(100, noise=0.06, factor=0.5)\n",
        "plt.scatter(points[:,0], points[:,1])\n",
        "K=2"
      ],
      "execution_count": 0,
      "outputs": [
        {
          "output_type": "display_data",
          "data": {
            "image/png": "[encoded data removed]",
            "text/plain": [
              "<Figure size 432x288 with 1 Axes>"
            ]
          },
          "metadata": {
            "tags": []
          }
        }
      ]
    },
    {
      "cell_type": "code",
      "metadata": {
        "id": "xfYIXxLf0uQk",
        "colab_type": "code",
        "outputId": "2cfcb1a6-e02b-4e12-dd03-5a76e46001fd",
        "colab": {
          "base_uri": "https://localhost:8080/",
          "height": 268
        }
      },
      "source": [
        "cluster_labels, initial_centers, cluster_centers = KMeans(points,K)\n",
        "plot_clusters(points,cluster_labels,show_annotation=False)"
      ],
      "execution_count": 0,
      "outputs": [
        {
          "output_type": "display_data",
          "data": {
            "image/png": "[encoded data removed]",
            "text/plain": [
              "<Figure size 432x288 with 1 Axes>"
            ]
          },
          "metadata": {
            "tags": []
          }
        }
      ]
    },
    {
      "cell_type": "code",
      "metadata": {
        "id": "sliOVh7L0wlB",
        "colab_type": "code",
        "outputId": "7edaf747-601c-4dae-9717-3ac430993372",
        "colab": {
          "base_uri": "https://localhost:8080/",
          "height": 318
        }
      },
      "source": [
        "#convert to r,theta and use kmeans\n",
        "points, _ = make_circles(100, noise=0.06, factor=0.5)\n",
        "K=2\n",
        "r = np.sqrt(points[:,0]**2+points[:,1]**2)\n",
        "t = np.arctan2(points[:,1],points[:,0])\n",
        "print(r.shape)\n",
        "print(t.shape)\n",
        "newpoints=np.zeros((points.shape[0],2))\n",
        "for i in range(points.shape[0]):\n",
        "  newpoints[i][1]=float(r[i]/1.1)\n",
        "  newpoints[i][0]=float((-t[i]+3.14)/(2*3.14))\n",
        "points=newpoints\n",
        "plt.scatter(points[:,0], points[:,1])"
      ],
      "execution_count": 0,
      "outputs": [
        {
          "output_type": "stream",
          "text": [
            "(100,)\n",
            "(100,)\n"
          ],
          "name": "stdout"
        },
        {
          "output_type": "execute_result",
          "data": {
            "text/plain": [
              "<matplotlib.collections.PathCollection at 0x7f5f87fe2b00>"
            ]
          },
          "metadata": {
            "tags": []
          },
          "execution_count": 284
        },
        {
          "output_type": "display_data",
          "data": {
            "image/png": "[encoded data removed]",
            "text/plain": [
              "<Figure size 432x288 with 1 Axes>"
            ]
          },
          "metadata": {
            "tags": []
          }
        }
      ]
    },
    {
      "cell_type": "code",
      "metadata": {
        "id": "gUSZ98ja4rtY",
        "colab_type": "code",
        "colab": {}
      },
      "source": [
        "a=np.array([[-1,0.2],[-1,1.1]])"
      ],
      "execution_count": 0,
      "outputs": []
    },
    {
      "cell_type": "code",
      "metadata": {
        "id": "6gj4QTYU2YnK",
        "colab_type": "code",
        "outputId": "48f36465-13ca-47bb-e54e-176b50a1527d",
        "colab": {
          "base_uri": "https://localhost:8080/",
          "height": 302
        }
      },
      "source": [
        "cluster_labels, initial_centers, cluster_centers = KMeans(points,K)\n",
        "plot_clusters(points,cluster_labels,show_annotation=False)\n",
        "plt.xlabel(\"theta\")\n",
        "plt.ylabel(\"R\")"
      ],
      "execution_count": 0,
      "outputs": [
        {
          "output_type": "execute_result",
          "data": {
            "text/plain": [
              "Text(0, 0.5, 'R')"
            ]
          },
          "metadata": {
            "tags": []
          },
          "execution_count": 297
        },
        {
          "output_type": "display_data",
          "data": {
            "image/png": "[encoded data removed]",
            "text/plain": [
              "<Figure size 432x288 with 1 Axes>"
            ]
          },
          "metadata": {
            "tags": []
          }
        }
      ]
    },
    {
      "cell_type": "code",
      "metadata": {
        "id": "p5_DZW1I3QD3",
        "colab_type": "code",
        "outputId": "a31013af-dc12-4a45-a891-c6b7bc89ef21",
        "colab": {
          "base_uri": "https://localhost:8080/",
          "height": 1000
        }
      },
      "source": [
        "import pandas as pd\n",
        "import json, os\n",
        "\n",
        "df = pd.read_csv(\"./tmdb_5000_movies.csv\")\n",
        "\n",
        "data = {}\n",
        "num_choices = 5\n",
        "\n",
        "try:\n",
        "    with open(\"final.json\", \"r\") as f:\n",
        "        data = json.load(f)\n",
        "except:\n",
        "    ip = input(\"Enter your name: \").strip()\n",
        "    while ip == \"\":\n",
        "        ip = input(\"Enter your name: \")\n",
        "        \n",
        "    data[\"username\"] = ip\n",
        "    data[\"movie_ids\"] = []\n",
        "    data[\"genre_freq\"] = {}\n",
        "    data[\"genre_freq_divided\"] = {}\n",
        "    \n",
        "    for i in range(df.shape[0]):\n",
        "        genres = json.loads(df[\"genres\"].iloc[i])\n",
        "        for genre in genres:\n",
        "            data[\"genre_freq\"][genre[\"name\"]] = 0\n",
        "            data[\"genre_freq_divided\"][genre[\"name\"]] = 0\n",
        "            \n",
        "while len(data[\"movie_ids\"]) != df.shape[0]:\n",
        "    num_idxs = min(df.shape[0]-len(data[\"movie_ids\"]), num_choices)\n",
        "    idxs = np.random.choice(df.shape[0], size=num_idxs, replace=False)\n",
        "    \n",
        "    print(\"-\"*100)\n",
        "    for i,idx in enumerate(idxs.tolist()):\n",
        "        while df[\"id\"].iloc[idx] in data[\"movie_ids\"]: \n",
        "            idx = np.random.randint(0, df.shape[0])\n",
        "\n",
        "        print(\"{}) {}\".format(i, df[\"title\"].iloc[idx]))\n",
        "\n",
        "    ip = int(input(\"Preferred Movie: \"))\n",
        "    if not 0<=ip<num_choices:\n",
        "        print(\"No option selected. Skipping...\")\n",
        "        continue\n",
        "    \n",
        "    chosen_loc = idxs[i]\n",
        "    genres = json.loads(df[\"genres\"].iloc[chosen_loc])\n",
        "    for genre in genres:\n",
        "        data[\"genre_freq\"][genre[\"name\"]] += 1\n",
        "        data[\"genre_freq_divided\"][genre[\"name\"]] += 1/len(genres)\n",
        "\n",
        "    data[\"movie_ids\"].append(int(df[\"id\"].iloc[chosen_loc]))\n",
        "\n",
        "    with open(\"final.json\", \"w\") as f:\n",
        "        json.dump(data, f)"
      ],
      "execution_count": 0,
      "outputs": [
        {
          "output_type": "stream",
          "text": [
            "Enter your name: Aman\n",
            "----------------------------------------------------------------------------------------------------\n",
            "0) Just Go with It\n",
            "1) Poetic Justice\n",
            "2) Sky High\n",
            "3) Bridget Jones's Diary\n",
            "4) Pink Flamingos\n",
            "Preferred Movie: 0\n",
            "----------------------------------------------------------------------------------------------------\n",
            "0) Kung Pow: Enter the Fist\n",
            "1) You Got Served\n",
            "2) Caramel\n",
            "3) Ask Me Anything\n",
            "4) Sweet November\n",
            "Preferred Movie: 0\n",
            "----------------------------------------------------------------------------------------------------\n",
            "0) Baghead\n",
            "1) Fiddler on the Roof\n",
            "2) Head of State\n",
            "3) Live and Let Die\n",
            "4) I Think I Love My Wife\n",
            "Preferred Movie: 3\n",
            "----------------------------------------------------------------------------------------------------\n",
            "0) The Theory of Everything\n",
            "1) Pierrot le Fou\n",
            "2) Sgt. Bilko\n",
            "3) Black Book\n",
            "4) Nighthawks\n",
            "Preferred Movie: 0\n",
            "----------------------------------------------------------------------------------------------------\n",
            "0) High Tension\n",
            "1) Married Life\n",
            "2) Sunday School Musical\n",
            "3) Chocolat\n",
            "4) Ender's Game\n",
            "Preferred Movie: 3\n",
            "----------------------------------------------------------------------------------------------------\n",
            "0) A Christmas Story\n",
            "1) Ex Machina\n",
            "2) Secret Window\n",
            "3) Remember the Titans\n",
            "4) Windtalkers\n",
            "Preferred Movie: 0\n",
            "----------------------------------------------------------------------------------------------------\n",
            "0) Takers\n",
            "1) Stan Helsing\n",
            "2) American Desi\n",
            "3) Adaptation.\n",
            "4) Wonderland\n",
            "Preferred Movie: 2\n",
            "----------------------------------------------------------------------------------------------------\n",
            "0) The Express\n",
            "1) San Andreas\n",
            "2) Last I Heard\n",
            "3) Reservoir Dogs\n",
            "4) The Chronicles of Narnia: The Voyage of the Dawn Treader\n",
            "Preferred Movie: 4\n",
            "----------------------------------------------------------------------------------------------------\n",
            "0) Quest for Camelot\n",
            "1) Firewall\n",
            "2) The Inhabited Island\n",
            "3) Morvern Callar\n",
            "4) I Spit on Your Grave\n",
            "Preferred Movie: 4\n",
            "----------------------------------------------------------------------------------------------------\n",
            "0) Escape from Tomorrow\n",
            "1) The Hills Have Eyes 2\n",
            "2) From Hell\n",
            "3) Eat Pray Love\n",
            "4) The Other Side of Heaven\n",
            "Preferred Movie: 1\n",
            "----------------------------------------------------------------------------------------------------\n",
            "0) Little Nicholas\n",
            "1) Rang De Basanti\n",
            "2) Hoffa\n",
            "3) V for Vendetta\n",
            "4) Coal Miner's Daughter\n",
            "Preferred Movie: 3\n",
            "----------------------------------------------------------------------------------------------------\n",
            "0) Mission: Impossible - Rogue Nation\n",
            "1) The Butterfly Effect\n",
            "2) The Blood of Heroes\n",
            "3) Mystic River\n",
            "4) Kangaroo Jack\n",
            "Preferred Movie: 0\n",
            "----------------------------------------------------------------------------------------------------\n",
            "0) On the Line\n",
            "1) Gods and Monsters\n",
            "2) White Noise 2: The Light\n",
            "3) Zipper\n",
            "4) The Replacements\n",
            "Preferred Movie: 4\n",
            "----------------------------------------------------------------------------------------------------\n",
            "0) Jane Got a Gun\n",
            "1) The Good Guy\n",
            "2) Wrong Turn\n",
            "3) The Lion King\n",
            "4) The Broadway Melody\n",
            "Preferred Movie: 3\n",
            "----------------------------------------------------------------------------------------------------\n",
            "0) Network\n",
            "1) Heartbeeps\n",
            "2) Saw II\n",
            "3) House at the End of the Drive\n",
            "4) The R.M.\n",
            "Preferred Movie: 2\n",
            "----------------------------------------------------------------------------------------------------\n",
            "0) My Best Friend's Wedding\n",
            "1) Some Like It Hot\n",
            "2) Casino\n",
            "3) The Ruins\n",
            "4) The Last Waltz\n",
            "Preferred Movie: 0\n",
            "----------------------------------------------------------------------------------------------------\n",
            "0) Along Came Polly\n",
            "1) 25th Hour\n",
            "2) Funny Ha Ha\n",
            "3) The Nun's Story\n",
            "4) Barbershop 2:  Back in Business\n",
            "Preferred Movie: 3\n",
            "----------------------------------------------------------------------------------------------------\n",
            "0) The Rage: Carrie 2\n",
            "1) Dr. Strangelove or: How I Learned to Stop Worrying and Love the Bomb\n",
            "2) Clay Pigeons\n",
            "3) Take Shelter\n",
            "4) The Other Dream Team\n",
            "Preferred Movie: 1\n",
            "----------------------------------------------------------------------------------------------------\n",
            "0) In the Land of Women\n",
            "1) Death Becomes Her\n",
            "2) Give Me Shelter\n",
            "3) Definitely, Maybe\n",
            "4) Running with Scissors\n",
            "Preferred Movie: 3\n",
            "----------------------------------------------------------------------------------------------------\n",
            "0) Happily N'Ever After\n",
            "1) The Butterfly Effect\n",
            "2) Dil Jo Bhi Kahey...\n",
            "3) Moulin Rouge!\n",
            "4) Kinsey\n",
            "Preferred Movie: 1\n",
            "----------------------------------------------------------------------------------------------------\n",
            "0) Project Almanac\n",
            "1) The Ice Storm\n",
            "2) Spice World\n",
            "3) Home Fries\n",
            "4) Woman in Gold\n",
            "Preferred Movie: 3\n",
            "----------------------------------------------------------------------------------------------------\n",
            "0) Dead Poets Society\n",
            "1) Nacho Libre\n",
            "2) It's a Wonderful Afterlife\n",
            "3) Return of the Living Dead 3\n",
            "4) My Big Fat Greek Wedding 2\n",
            "Preferred Movie: 4\n",
            "----------------------------------------------------------------------------------------------------\n",
            "0) West Side Story\n",
            "1) Tuck Everlasting\n",
            "2) Faith Like Potatoes\n",
            "3) Platoon\n",
            "4) Dreamgirls\n",
            "Preferred Movie: 2\n",
            "----------------------------------------------------------------------------------------------------\n",
            "0) Babe: Pig in the City\n",
            "1) Alex Cross\n",
            "2) Holy Motors\n",
            "3) Dances with Wolves\n",
            "4) Censored Voices\n",
            "Preferred Movie: 3\n",
            "----------------------------------------------------------------------------------------------------\n",
            "0) Absolute Power\n",
            "1) Evolution\n",
            "2) A Hard Day's Night\n",
            "3) Cheaper by the Dozen 2\n",
            "4) Spectre\n",
            "Preferred Movie: 1\n",
            "----------------------------------------------------------------------------------------------------\n",
            "0) Green Street Hooligans: Underground\n",
            "1) The Beast from 20,000 Fathoms\n",
            "2) Madagascar 3: Europe's Most Wanted\n",
            "3) The Dictator\n",
            "4) The 6th Day\n",
            "Preferred Movie: 2\n",
            "----------------------------------------------------------------------------------------------------\n",
            "0) The Blood of My Brother: A Story of Death in Iraq\n",
            "1) Stan Helsing\n",
            "2) The Sting\n",
            "3) PCU\n",
            "4) Ninja Assassin\n",
            "Preferred Movie: 0\n",
            "----------------------------------------------------------------------------------------------------\n",
            "0) Speed Racer\n",
            "1) A Walk Among the Tombstones\n",
            "2) Die Another Day\n",
            "3) Underworld: Rise of the Lycans\n",
            "4) The Blue Lagoon\n",
            "Preferred Movie: 2\n",
            "----------------------------------------------------------------------------------------------------\n",
            "0) Eye of the Dolphin\n",
            "1) Guten Tag, Ramón\n",
            "2) Magic Mike\n",
            "3) Universal Soldier: The Return\n",
            "4) Unknown\n",
            "Preferred Movie: 0\n",
            "----------------------------------------------------------------------------------------------------\n",
            "0) The Young Messiah\n",
            "1) The Warlords\n",
            "2) Malevolence\n",
            "3) Gangster Squad\n",
            "4) Men with Brooms\n",
            "Preferred Movie: 3\n",
            "----------------------------------------------------------------------------------------------------\n",
            "0) The Musketeer\n",
            "1) Abandoned\n",
            "2) About a Boy\n",
            "3) Madison\n",
            "4) Robots\n",
            "Preferred Movie: 0\n",
            "----------------------------------------------------------------------------------------------------\n",
            "0) Blindness\n",
            "1) Chasing Mavericks\n",
            "2) Catch Me If You Can\n",
            "3) The Conformist\n",
            "4) Starship Troopers\n",
            "Preferred Movie: 4\n",
            "----------------------------------------------------------------------------------------------------\n",
            "0) Def-Con 4\n",
            "1) Dumb and Dumber To\n",
            "2) The French Connection\n",
            "3) Adaptation.\n",
            "4) Spider-Man\n",
            "Preferred Movie: 4\n",
            "----------------------------------------------------------------------------------------------------\n",
            "0) Payback\n",
            "1) Instructions Not Included\n",
            "2) Howl's Moving Castle\n",
            "3) 24 7: Twenty Four Seven\n",
            "4) Outside Providence\n",
            "Preferred Movie: 3\n",
            "----------------------------------------------------------------------------------------------------\n",
            "0) Days of Thunder\n",
            "1) Mars Attacks!\n",
            "2) Timecrimes\n",
            "3) Black Rock\n",
            "4) The Proposition\n",
            "Preferred Movie: 1\n",
            "----------------------------------------------------------------------------------------------------\n",
            "0) Here On Earth\n",
            "1) Unaccompanied Minors\n",
            "2) Case 39\n",
            "3) Bad Moms\n",
            "4) Beastly\n",
            "Preferred Movie: 3\n",
            "----------------------------------------------------------------------------------------------------\n",
            "0) Need for Speed\n",
            "1) The Twilight Saga: Breaking Dawn - Part 2\n",
            "2) Carriers\n",
            "3) The Spectacular Now\n",
            "4) The General's Daughter\n",
            "Preferred Movie: 1\n",
            "----------------------------------------------------------------------------------------------------\n",
            "0) Malcolm X\n",
            "1) The Legend of Hercules\n",
            "2) Glitter\n",
            "3) The Princess Diaries\n",
            "4) The Crime of Padre Amaro\n",
            "Preferred Movie: 1\n",
            "----------------------------------------------------------------------------------------------------\n",
            "0) The Pirate\n",
            "1) 3:10 to Yuma\n",
            "2) Womb\n",
            "3) Hope Springs\n",
            "4) Promised Land\n",
            "Preferred Movie: 0\n",
            "----------------------------------------------------------------------------------------------------\n",
            "0) The Fifth Estate\n",
            "1) Veer-Zaara\n",
            "2) Graduation Day\n",
            "3) Jennifer's Body\n",
            "4) The River Wild\n",
            "Preferred Movie: 0\n",
            "----------------------------------------------------------------------------------------------------\n",
            "0) Walking Tall\n",
            "1) Keeping Up with the Steins\n",
            "2) Sweet Charity\n",
            "3) VeggieTales: The Pirates Who Don't Do Anything\n",
            "4) Mortal Kombat: Annihilation\n",
            "Preferred Movie: 3\n",
            "----------------------------------------------------------------------------------------------------\n",
            "0) The Dilemma\n",
            "1) The Straight Story\n",
            "2) Ben-Hur\n",
            "3) The Polar Express\n",
            "4) Piranha 3D\n",
            "Preferred Movie: 2\n",
            "----------------------------------------------------------------------------------------------------\n",
            "0) Mad Max 2: The Road Warrior\n",
            "1) Last I Heard\n",
            "2) Casino Jack\n",
            "3) Homefront\n",
            "4) Slackers\n",
            "Preferred Movie: 0\n",
            "----------------------------------------------------------------------------------------------------\n",
            "0) Cabin Fever\n",
            "1) Virgin Territory\n",
            "2) Mortdecai\n",
            "3) There Be Dragons\n",
            "4) Insidious: Chapter 3\n",
            "Preferred Movie: 4\n",
            "----------------------------------------------------------------------------------------------------\n",
            "0) Namastey London\n",
            "1) Osmosis Jones\n",
            "2) Veer-Zaara\n",
            "3) Vera Drake\n",
            "4) Bullets Over Broadway\n",
            "Preferred Movie: 4\n",
            "----------------------------------------------------------------------------------------------------\n",
            "0) Payback\n",
            "1) The Black Hole\n",
            "2) American Psycho\n",
            "3) BloodRayne\n",
            "4) The Last Big Thing\n",
            "Preferred Movie: 2\n",
            "----------------------------------------------------------------------------------------------------\n",
            "0) Justin Bieber: Never Say Never\n",
            "1) Apocalypto\n",
            "2) Psycho\n",
            "3) The Hills Have Eyes\n",
            "4) Supercapitalist\n",
            "Preferred Movie: 3\n",
            "----------------------------------------------------------------------------------------------------\n",
            "0) Priest\n",
            "1) Beavis and Butt-Head Do America\n",
            "2) Jerry Maguire\n",
            "3) The Impossible\n",
            "4) Plastic\n",
            "Preferred Movie: 0\n",
            "----------------------------------------------------------------------------------------------------\n",
            "0) Like Mike\n",
            "1) The Sitter\n",
            "2) Lincoln\n",
            "3) She's All That\n",
            "4) Robin and Marian\n",
            "Preferred Movie: 2\n",
            "----------------------------------------------------------------------------------------------------\n",
            "0) Joyeux Noël\n",
            "1) Confidence\n",
            "2) Darkness Falls\n",
            "3) 47 Ronin\n",
            "4) City Island\n",
            "Preferred Movie: 0\n",
            "----------------------------------------------------------------------------------------------------\n",
            "0) Annie Hall\n",
            "1) Observe and Report\n",
            "2) Talladega Nights: The Ballad of Ricky Bobby\n",
            "3) The Hoax\n",
            "4) The Apartment\n",
            "Preferred Movie: 0\n",
            "----------------------------------------------------------------------------------------------------\n",
            "0) Hanna\n",
            "1) Surrogates\n",
            "2) Two Lovers\n",
            "3) Just Wright\n",
            "4) Cloudy with a Chance of Meatballs\n",
            "Preferred Movie: 4\n",
            "----------------------------------------------------------------------------------------------------\n",
            "0) Iguana\n",
            "1) Earth\n",
            "2) Dazed and Confused\n",
            "3) Dark City\n",
            "4) Pearl Harbor\n",
            "Preferred Movie: 1\n",
            "----------------------------------------------------------------------------------------------------\n",
            "0) Step Up Revolution\n",
            "1) A Cock and Bull Story\n",
            "2) Chuck & Buck\n",
            "3) X-Men: Days of Future Past\n",
            "4) Eraserhead\n",
            "Preferred Movie: 3\n",
            "----------------------------------------------------------------------------------------------------\n",
            "0) The Princess Diaries\n",
            "1) Topaz\n",
            "2) A Most Wanted Man\n",
            "3) Quills\n",
            "4) In Too Deep\n",
            "Preferred Movie: 0\n",
            "----------------------------------------------------------------------------------------------------\n",
            "0) Saint Ralph\n",
            "1) Recess: School's Out\n",
            "2) Good Will Hunting\n",
            "3) Dancer, Texas Pop. 81\n",
            "4) The Bourne Supremacy\n",
            "Preferred Movie: 2\n",
            "----------------------------------------------------------------------------------------------------\n",
            "0) Open Range\n",
            "1) Monster\n",
            "2) The Rage: Carrie 2\n",
            "3) Fireproof\n",
            "4) Charlie's Angels\n",
            "Preferred Movie: 4\n",
            "----------------------------------------------------------------------------------------------------\n",
            "0) Dylan Dog: Dead of Night\n",
            "1) Peaceful Warrior\n",
            "2) Aloft\n",
            "3) They Will Have to Kill Us First\n",
            "4) See Spot Run\n",
            "Preferred Movie: 3\n",
            "----------------------------------------------------------------------------------------------------\n",
            "0) Barbecue\n",
            "1) Old Joy\n",
            "2) Girl with a Pearl Earring\n",
            "3) Hit & Run\n",
            "4) Jay and Silent Bob Strike Back\n",
            "Preferred Movie: 0\n",
            "----------------------------------------------------------------------------------------------------\n",
            "0) Old Joy\n",
            "1) Source Code\n",
            "2) Bernie\n",
            "3) Inside Deep Throat\n",
            "4) Carrie\n",
            "Preferred Movie: 3\n",
            "----------------------------------------------------------------------------------------------------\n",
            "0) The Incredibly True Adventure of Two Girls In Love\n",
            "1) Spy Hard\n",
            "2) Evil Words\n",
            "3) In Dreams\n",
            "4) Mars Needs Moms\n",
            "Preferred Movie: 0\n",
            "----------------------------------------------------------------------------------------------------\n",
            "0) Erin Brockovich\n",
            "1) The Reef\n",
            "2) Think Like a Man Too\n",
            "3) Instinct\n",
            "4) Super\n",
            "Preferred Movie: 2\n",
            "----------------------------------------------------------------------------------------------------\n",
            "0) Creative Control\n",
            "1) Be Kind Rewind\n",
            "2) The Best of Me\n",
            "3) Foodfight!\n",
            "4) Only the Strong\n",
            "Preferred Movie: 3\n",
            "----------------------------------------------------------------------------------------------------\n",
            "0) Lucky Number Slevin\n",
            "1) Hairspray\n",
            "2) The Verdict\n",
            "3) The Flintstones in Viva Rock Vegas\n",
            "4) Stargate: The Ark of Truth\n",
            "Preferred Movie: 3\n",
            "----------------------------------------------------------------------------------------------------\n",
            "0) Office Space\n",
            "1) Iraq for Sale: The War Profiteers\n",
            "2) The Eye\n",
            "3) The Haunting in Connecticut 2: Ghosts of Georgia\n",
            "4) When the Game Stands Tall\n",
            "Preferred Movie: 3\n",
            "----------------------------------------------------------------------------------------------------\n",
            "0) Just Go with It\n",
            "1) Midnight Run\n",
            "2) O Brother, Where Art Thou?\n",
            "3) I Am Wrath\n",
            "4) The Muppet Christmas Carol\n",
            "Preferred Movie: 3\n",
            "----------------------------------------------------------------------------------------------------\n",
            "0) Madea's Witness Protection\n",
            "1) Legend of the Guardians: The Owls of Ga'Hoole\n",
            "2) The Oh in Ohio\n",
            "3) Animal House\n",
            "4) Beyond the Valley of the Dolls\n",
            "Preferred Movie: 3\n",
            "----------------------------------------------------------------------------------------------------\n",
            "0) Exorcist: The Beginning\n",
            "1) The Helpers\n",
            "2) Kama Sutra - A Tale of Love\n",
            "3) Space Chimps\n",
            "4) Futuro Beach\n",
            "Preferred Movie: 3\n",
            "----------------------------------------------------------------------------------------------------\n",
            "0) Shrek Forever After\n",
            "1) The Brothers\n",
            "2) The Kid\n",
            "3) Alvin and the Chipmunks: The Road Chip\n",
            "4) The House of the Devil\n",
            "Preferred Movie: 3\n",
            "----------------------------------------------------------------------------------------------------\n",
            "0) Amistad\n",
            "1) Cry_Wolf\n",
            "2) What Lies Beneath\n",
            "3) Black November\n",
            "4) The Ballad of Gregorio Cortez\n",
            "Preferred Movie: 3\n",
            "----------------------------------------------------------------------------------------------------\n",
            "0) Fabled\n",
            "1) Transformers\n",
            "2) Supercross\n",
            "3) Firefox\n",
            "4) Factory Girl\n",
            "Preferred Movie: 3\n",
            "----------------------------------------------------------------------------------------------------\n",
            "0) The Legend of the Lone Ranger\n",
            "1) Semi-Pro\n",
            "2) Hesher\n",
            "3) Toy Story 3\n",
            "4) Mother and Child\n",
            "Preferred Movie: 3\n",
            "----------------------------------------------------------------------------------------------------\n",
            "0) Meteor\n",
            "1) An Education\n",
            "2) Shooter\n",
            "3) The Singles Ward\n",
            "4) Patriot Games\n",
            "Preferred Movie: \n"
          ],
          "name": "stdout"
        },
        {
          "output_type": "error",
          "ename": "ValueError",
          "evalue": "ignored",
          "traceback": [
            "\u001b[0;31m---------------------------------------------------------------------------\u001b[0m",
            "\u001b[0;31mValueError\u001b[0m                                Traceback (most recent call last)",
            "\u001b[0;32m<ipython-input-301-734439743430>\u001b[0m in \u001b[0;36m<module>\u001b[0;34m()\u001b[0m\n\u001b[1;32m     37\u001b[0m         \u001b[0mprint\u001b[0m\u001b[0;34m(\u001b[0m\u001b[0;34m\"{}) {}\"\u001b[0m\u001b[0;34m.\u001b[0m\u001b[0mformat\u001b[0m\u001b[0;34m(\u001b[0m\u001b[0mi\u001b[0m\u001b[0;34m,\u001b[0m \u001b[0mdf\u001b[0m\u001b[0;34m[\u001b[0m\u001b[0;34m\"title\"\u001b[0m\u001b[0;34m]\u001b[0m\u001b[0;34m.\u001b[0m\u001b[0miloc\u001b[0m\u001b[0;34m[\u001b[0m\u001b[0midx\u001b[0m\u001b[0;34m]\u001b[0m\u001b[0;34m)\u001b[0m\u001b[0;34m)\u001b[0m\u001b[0;34m\u001b[0m\u001b[0;34m\u001b[0m\u001b[0m\n\u001b[1;32m     38\u001b[0m \u001b[0;34m\u001b[0m\u001b[0m\n\u001b[0;32m---> 39\u001b[0;31m     \u001b[0mip\u001b[0m \u001b[0;34m=\u001b[0m \u001b[0mint\u001b[0m\u001b[0;34m(\u001b[0m\u001b[0minput\u001b[0m\u001b[0;34m(\u001b[0m\u001b[0;34m\"Preferred Movie: \"\u001b[0m\u001b[0;34m)\u001b[0m\u001b[0;34m)\u001b[0m\u001b[0;34m\u001b[0m\u001b[0;34m\u001b[0m\u001b[0m\n\u001b[0m\u001b[1;32m     40\u001b[0m     \u001b[0;32mif\u001b[0m \u001b[0;32mnot\u001b[0m \u001b[0;36m0\u001b[0m\u001b[0;34m<=\u001b[0m\u001b[0mip\u001b[0m\u001b[0;34m<\u001b[0m\u001b[0mnum_choices\u001b[0m\u001b[0;34m:\u001b[0m\u001b[0;34m\u001b[0m\u001b[0;34m\u001b[0m\u001b[0m\n\u001b[1;32m     41\u001b[0m         \u001b[0mprint\u001b[0m\u001b[0;34m(\u001b[0m\u001b[0;34m\"No option selected. Skipping...\"\u001b[0m\u001b[0;34m)\u001b[0m\u001b[0;34m\u001b[0m\u001b[0;34m\u001b[0m\u001b[0m\n",
            "\u001b[0;31mValueError\u001b[0m: invalid literal for int() with base 10: ''"
          ]
        }
      ]
    },
    {
      "cell_type": "code",
      "metadata": {
        "id": "JudNhbq-Vflg",
        "colab_type": "code",
        "colab": {}
      },
      "source": [
        ""
      ],
      "execution_count": 0,
      "outputs": []
    },
    {
      "cell_type": "code",
      "metadata": {
        "id": "HYbWp-KO_gCN",
        "colab_type": "code",
        "outputId": "2c02ed94-6f97-4536-8341-aa35fb74617c",
        "colab": {
          "base_uri": "https://localhost:8080/",
          "height": 168
        }
      },
      "source": [
        "import json,os\n",
        "from sklearn.cluster import KMeans\n",
        "# f = open(\"final_Ammar.json\", \"r\")\n",
        "data=[]\n",
        "for i in os.listdir():\n",
        "  if(i[0:5]=='final'):\n",
        "    f=open(i,\"r\")\n",
        "    data.append(json.loads(f.read()))\n",
        "    f.close()\n",
        "b=np.zeros((1,20))\n",
        "for i in range(13):\n",
        "  val=list(data[i]['genre_freq_divided'].values())\n",
        "  val=np.array(val)\n",
        "  val=np.expand_dims(val,axis=0)\n",
        "  b=np.vstack([b,val])\n",
        "b=b[1:b.shape[0],:]\n",
        "\n",
        "kmeans=KMeans(n_clusters=3, random_state=0).fit(b)\n",
        "print(kmeans.labels_)\n",
        "val1=[]\n",
        "val2=[]\n",
        "val3=[]\n",
        "for i in range(13):\n",
        "  val=data[i]['username']\n",
        "  if(kmeans.labels_[i]==0):\n",
        "    val1.append(val)\n",
        "  elif(kmeans.labels_[i]==1):\n",
        "    val2.append(val)\n",
        "  else:\n",
        "    val3.append(val)\n",
        "\n",
        "print(\"Cluster one\")\n",
        "print(val1)\n",
        "print(\"------\")\n",
        "print(\"Cluster two\")\n",
        "print(val2)\n",
        "print(\"-----\")\n",
        "print(\"Cluster three\")\n",
        "print(val3)"
      ],
      "execution_count": 0,
      "outputs": [
        {
          "output_type": "stream",
          "text": [
            "[0 1 1 0 1 1 1 1 1 2 0 0 0]\n",
            "Cluster one\n",
            "['Sai Shashank', 'aryamaan', 'Sai Tanmay', 'Ayan', 'yoogottamk']\n",
            "------\n",
            "Cluster two\n",
            "['Aman', 'ttirth', 'varun', 'abhishek', 'George', 'Avani', 'Ammar']\n",
            "-----\n",
            "Cluster three\n",
            "['dolton']\n"
          ],
          "name": "stdout"
        }
      ]
    }
  ]
}