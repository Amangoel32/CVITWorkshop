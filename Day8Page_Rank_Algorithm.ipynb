{
  "nbformat": 4,
  "nbformat_minor": 0,
  "metadata": {
    "kernelspec": {
      "display_name": "Base",
      "language": "python",
      "name": "myenv"
    },
    "language_info": {
      "codemirror_mode": {
        "name": "ipython",
        "version": 3
      },
      "file_extension": ".py",
      "mimetype": "text/x-python",
      "name": "python",
      "nbconvert_exporter": "python",
      "pygments_lexer": "ipython3",
      "version": "3.7.4"
    },
    "colab": {
      "name": "Day8Page Rank Algorithm.ipynb",
      "provenance": [],
      "toc_visible": true
    }
  },
  "cells": [
    {
      "cell_type": "markdown",
      "metadata": {
        "id": "alCusnZG_gBq",
        "colab_type": "text"
      },
      "source": [
        "# Google Page Rank Algorithm\n",
        "\n",
        "- Author: Swetanjal Dutta"
      ]
    },
    {
      "cell_type": "markdown",
      "metadata": {
        "id": "K3aKg8cz_gBr",
        "colab_type": "text"
      },
      "source": [
        "In this notebook, we learn and code up a simplified version of Google's Page Rank Algorithm, which is a direct application of Eigenvectors and Eigenvalues we learnt in Linear Algebra.\n",
        "\n",
        "![image](images/1.png)\n",
        "\n",
        "Reference to the original paper: $\\href{http://ilpubs.stanford.edu:8090/422/1/1999-66.pdf}{here}$\n",
        "\n",
        "Reference to blog:\n",
        "$\\href{https://www.dhruvonmath.com/2019/03/20/pagerank/}{here}$"
      ]
    },
    {
      "cell_type": "markdown",
      "metadata": {
        "id": "iOf6wJ42_gBs",
        "colab_type": "text"
      },
      "source": [
        "Google Page Rank Algorithm predicts a rank for each webpage on the internet. This rank depends on the number of ingoing and outgoing links to a webpage.\n",
        "\n",
        "You can think of rank of a webpage as follows: If a web page gets rank $1$, it means that a random web searcher who clicks links randomly would spend the most amount of time in this web page. If a web page gets rank $2$, it means that a random web searcher who keeps clicking links randomly would spend the second most amount of time in this web page and so on and so forth.\n",
        "\n",
        "Given the structure of the web, it is very obvious to model the web as a Graph Data structure. The nodes of the graph are the web pages. Edges of the graph represent links between the web pages.\n",
        "\n",
        "Note that the graph is a directed graph. There maybe a link from webpage 'A' to webpage 'B', it may not always be the case that there exists a link from webpage 'B' to webpage 'A'."
      ]
    },
    {
      "cell_type": "markdown",
      "metadata": {
        "id": "PfujjTT0_gBt",
        "colab_type": "text"
      },
      "source": [
        "A graph with $N$ nodes can be represented with a $N \\times N$ matrix. This matrix is known as Adjacency matrix.\n",
        "\n",
        "$A_{ij}$ represents the weight of the edge connecting the $j^{th}$ node to the $i^{th}$ node. \n",
        "We can think of this adjacency matrix as concatenation of $N$ column vectors. The $i^{th}$ column defines the edges from node $i$ to all other nodes."
      ]
    },
    {
      "cell_type": "markdown",
      "metadata": {
        "id": "MgZO_Xnh_gBt",
        "colab_type": "text"
      },
      "source": [
        "**Exercise:**\n",
        "Can you draw the graph corresponding to the following adjacency matrix?\n",
        "\n",
        "\\begin{equation}\n",
        "A = \\begin{pmatrix}\n",
        "0 & 1/2 & 0 & 0\\\\\n",
        "1/3 & 0 & 0 & 1/2\\\\\n",
        "1/3 & 0 & 0 & 1/2\\\\\n",
        "1/3 & 1/2 & 1 & 0\\\\\n",
        "\\end{pmatrix}\n",
        "\\end{equation}\n",
        "\n",
        "**Exercise:**\n",
        "Can you write down the adjacency matrix for the following graph?\n",
        "![ex1](images/2.png)"
      ]
    },
    {
      "cell_type": "markdown",
      "metadata": {
        "id": "xEO3IeFn_gBu",
        "colab_type": "text"
      },
      "source": [
        "Let us normalize each column of the adjacency matrix so that the entries sum upto $1$. This is because we want to output the rank as a probability value of the amount of time spent on that webpage.\n",
        "\n",
        "We start with equiprobable ranks for all webpages. \n",
        "\n",
        "We update the ranks($r$) as follows:\n",
        "\\begin{equation}\n",
        "r(i) = \\underset{j}{\\sum} r(j) * A(i, j)\n",
        "\\end{equation}\n",
        "\\begin{equation}\n",
        "r' = A.r\n",
        "\\end{equation}\n",
        "The above is a recursive definition."
      ]
    },
    {
      "cell_type": "code",
      "metadata": {
        "id": "dsDuuUUk_gBu",
        "colab_type": "code",
        "colab": {}
      },
      "source": [
        "import numpy as np"
      ],
      "execution_count": 0,
      "outputs": []
    },
    {
      "cell_type": "code",
      "metadata": {
        "id": "ogG4gTma_gBy",
        "colab_type": "code",
        "colab": {}
      },
      "source": [
        "# Complete the below function to return A after normalizing\n",
        "# each of it's columns\n",
        "# Normalizing a column means sum of entries in each column adds to 1.\n",
        "# PLEASE USE VECTORISED CODE FOR EFFICIENCY\n",
        "def normalize_columns(A):\n",
        "    A=np.float32(A)\n",
        "    A/=A.sum(axis=0)\n",
        "    return A"
      ],
      "execution_count": 0,
      "outputs": []
    },
    {
      "cell_type": "code",
      "metadata": {
        "id": "nIkUYsc7_gB1",
        "colab_type": "code",
        "colab": {
          "base_uri": "https://localhost:8080/",
          "height": 84
        },
        "outputId": "93c8cb03-b9a5-4a28-83d5-24c3a85cef83"
      },
      "source": [
        "A = np.array([[0, 0, 1, 1], [1, 0, 0, 0], [1, 1, 0, 1], [1, 1, 0, 0]])\n",
        "print(normalize_columns(A))"
      ],
      "execution_count": 38,
      "outputs": [
        {
          "output_type": "stream",
          "text": [
            "[[0.         0.         1.         0.5       ]\n",
            " [0.33333334 0.         0.         0.        ]\n",
            " [0.33333334 0.5        0.         0.5       ]\n",
            " [0.33333334 0.5        0.         0.        ]]\n"
          ],
          "name": "stdout"
        }
      ]
    },
    {
      "cell_type": "markdown",
      "metadata": {
        "id": "5nNqt0PX_gB5",
        "colab_type": "text"
      },
      "source": [
        "**Expected Output:**\n",
        "\n",
        "[[0.         0.         1.         0.5       ]\n",
        " [0.33333333 0.         0.         0.        ]\n",
        " [0.33333333 0.5        0.         0.5       ]\n",
        " [0.33333333 0.5        0.         0.        ]]"
      ]
    },
    {
      "cell_type": "code",
      "metadata": {
        "id": "Am8v1GJm_gB6",
        "colab_type": "code",
        "colab": {}
      },
      "source": [
        "epsilon = 1e-8"
      ],
      "execution_count": 0,
      "outputs": []
    },
    {
      "cell_type": "code",
      "metadata": {
        "id": "H0YrFXCF_gB8",
        "colab_type": "code",
        "colab": {}
      },
      "source": [
        "# Complete the below function to take a matrix A and a vector r.\n",
        "# Return the updated rank.\n",
        "# PLEASE USE VECTORISED CODE WITHOUT LOOPS\n",
        "def update_rank(A, r):\n",
        "    # print(A.shape)\n",
        "    # print(a.shape)\n",
        "    final_rank=A@r\n",
        "    return final_rank"
      ],
      "execution_count": 0,
      "outputs": []
    },
    {
      "cell_type": "code",
      "metadata": {
        "id": "atElijg2_gB_",
        "colab_type": "code",
        "colab": {}
      },
      "source": [
        "# Complete the below function to check if two vectors a and b are equal\n",
        "# Since we are dealing with real numbers, \n",
        "# we say two elements(x and y) are equal if abs(x - y) <= epsilon\n",
        "\n",
        "# PLEASE USE VECTORISED CODE WITHOUT LOOPS\n",
        "def check_equality(a, b):\n",
        "    if(abs(a-b)<=epsilon):\n",
        "      return True\n",
        "    else:\n",
        "      return False"
      ],
      "execution_count": 0,
      "outputs": []
    },
    {
      "cell_type": "code",
      "metadata": {
        "id": "esr9GWp7_gCB",
        "colab_type": "code",
        "colab": {}
      },
      "source": [
        "# Complete the below function to compute ranks iteratively until \n",
        "# ranks stabilise.\n",
        "# We say ranks become stabilised when the after updation the ranks\n",
        "# do not change.\n",
        "# Use the functions defined above.\n",
        "def compute_iteratively(A, initial_rank):\n",
        "    cur_rank=np.expand_dims(initial_rank, axis=1)\n",
        "    prev_rank=np.zeros((cur_rank.shape[0],1))\n",
        "    while True:\n",
        "          flag=1\n",
        "          for i in range(cur_rank.shape[0]):\n",
        "            if check_equality(cur_rank[i], prev_rank[i]):\n",
        "              flag=1\n",
        "            else:\n",
        "              flag=0\n",
        "          if(flag==1):\n",
        "            break\n",
        "          prev_rank=cur_rank\n",
        "          cur_rank=update_rank(A,cur_rank)\n",
        "    return cur_rank.T"
      ],
      "execution_count": 0,
      "outputs": []
    },
    {
      "cell_type": "code",
      "metadata": {
        "id": "zmwiW6M5_gCE",
        "colab_type": "code",
        "colab": {}
      },
      "source": [
        "from numpy import linalg as la\n",
        "def compute_using_eig(A, initial_rank):\n",
        "    eigenvals, eigenvecs = la.eig(A)\n",
        "    i=0\n",
        "    for a in eigenvals:\n",
        "      if(a==1):\n",
        "        return normalize_columns(eigenvecs[:,i])\n",
        "    return \"FAILURE\"\n",
        "    "
      ],
      "execution_count": 0,
      "outputs": []
    },
    {
      "cell_type": "code",
      "metadata": {
        "id": "hfi5sFD-_gCH",
        "colab_type": "code",
        "colab": {
          "base_uri": "https://localhost:8080/",
          "height": 84
        },
        "outputId": "ccd8ba34-5f38-44b4-cc26-bf629c288b1c"
      },
      "source": [
        "A = np.array([[0, 1, 0, 0], [1, 0, 0, 1], [1, 0, 0, 1], [1, 1, 1, 0]])\n",
        "A = normalize_columns(A)\n",
        "r = np.array([0.25, 0.25, 0.25, 0.25])\n",
        "print(\"Rank computed iteratively: \\n\", compute_iteratively(A, r))\n",
        "print(\"Rank computed using eigen values and eigen vectors: \\n\", compute_using_eig(A, r))"
      ],
      "execution_count": 132,
      "outputs": [
        {
          "output_type": "stream",
          "text": [
            "Rank computed iteratively: \n",
            " [[0.12000007 0.24000015 0.24000015 0.40000024]]\n",
            "Rank computed using eigen values and eigen vectors: \n",
            " [0.12       0.24000001 0.24000001 0.39999998]\n"
          ],
          "name": "stdout"
        }
      ]
    },
    {
      "cell_type": "markdown",
      "metadata": {
        "id": "E_FwkKzl_gCJ",
        "colab_type": "text"
      },
      "source": [
        "**Expected Output:**\n",
        "\n",
        "Rank computed iteratively: \n",
        " [0.12       0.24       0.24       0.39999999]\n",
        "\n",
        "Rank computed using eigen values and eigen vectors: \n",
        " [0.12 0.24 0.24 0.4 ]"
      ]
    },
    {
      "cell_type": "code",
      "metadata": {
        "id": "xKlGAX9K_gCJ",
        "colab_type": "code",
        "colab": {
          "base_uri": "https://localhost:8080/",
          "height": 138
        },
        "outputId": "72025dc1-d7e5-4aa8-f099-52e7811e4ca5"
      },
      "source": [
        "A = np.array([[0, 0, 1, 1], [1, 0, 0, 0], [1, 1, 0, 1], [1, 1, 0, 0]])\n",
        "A = normalize_columns(A)\n",
        "r = np.array([0.25, 0.25, 0.25, 0.25])\n",
        "print(\"Rank computed iteratively: \\n\", compute_iteratively(A, r))\n",
        "print(\"Rank computed using eigen values and eigen vectors: \\n\", compute_using_eig(A, r))"
      ],
      "execution_count": 133,
      "outputs": [
        {
          "output_type": "stream",
          "text": [
            "Rank computed iteratively: \n",
            " [[0.39062502 0.13194445 0.28645835 0.19097223]]\n",
            "Rank computed using eigen values and eigen vectors: \n",
            " [0.38709676 0.12903225 0.29032257 0.1935484 ]\n"
          ],
          "name": "stdout"
        },
        {
          "output_type": "stream",
          "text": [
            "/usr/local/lib/python3.6/dist-packages/ipykernel_launcher.py:6: ComplexWarning: Casting complex values to real discards the imaginary part\n",
            "  \n"
          ],
          "name": "stderr"
        }
      ]
    },
    {
      "cell_type": "markdown",
      "metadata": {
        "id": "j4uQgnvL_gCM",
        "colab_type": "text"
      },
      "source": [
        "**Expected Output:**\n",
        "\n",
        "Rank computed iteratively: \n",
        "\n",
        "[0.38709677 0.12903226 0.29032258 0.19354839]\n",
        "\n",
        "Rank computed using eigen values and eigen vectors: \n",
        "\n",
        "[0.38709677 0.12903226 0.29032258 0.19354839]"
      ]
    },
    {
      "cell_type": "code",
      "metadata": {
        "id": "zGdFUynZKuMI",
        "colab_type": "code",
        "colab": {}
      },
      "source": [
        ""
      ],
      "execution_count": 0,
      "outputs": []
    }
  ]
}